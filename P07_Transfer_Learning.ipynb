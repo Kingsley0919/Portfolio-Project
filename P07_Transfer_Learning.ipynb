{
  "cells": [
    {
      "cell_type": "markdown",
      "metadata": {
        "id": "KD4xqavfrauc"
      },
      "source": [
        "#**Transfer Learning**\n",
        "\n",
        "**Reference**: Deep Learning for Data Science (BCS, FICT)\n",
        "\n",
        "\n"
      ]
    },
    {
      "cell_type": "markdown",
      "metadata": {
        "id": "hyqpElym-dXl"
      },
      "source": [
        "**Why do we need Transfer Learning?**\n",
        "* Saving effort to train a model from scratch\n",
        "* Transfer learning reduces overfitting and improves the generalization performance (especially when the training set for the targeted task is small)\n",
        "\n",
        "\n",
        "In practice, it is common to use a **CNN architectures** such that ResNet, MNASNet, ResNeXt, EfficientNet, etc. to build a model. The effectiveness of these network architectures has been well attested for a wide range of applications.  The [`torchvision.models`](https://pytorch.org/vision/stable/models.html) package contains these different network models that have been pre-trained on ImageNet.\n",
        "\n",
        "In general, there are two ways to perform transfer learning:\n",
        "\n",
        "1. **Finetuning the entire network**: Instead of random initialization,  initialize the network with the pretrained network.\n",
        "\n",
        "2. **Fixed feature extractor**: Freeze the weights for all of the layers of the network except for the final fully connected (fc) layer. Replace the last fc layer so that the output size is the same as the number of classes for the new task. The new layer is initialized with random weights and only this layer is trained.\n",
        "\n",
        "\n",
        "**Objective:**\n",
        "\n",
        "To train a pretrain model by:\n",
        "1. Training from scratch (without pretrained weights)\n",
        "2. Finetuning the entire pretrained model\n",
        "3. Finetuning the upper (last few) layers of the pretrained model\n",
        "4. Finetuning only the fc layers (fixed feature extractor)"
      ]
    },
    {
      "cell_type": "markdown",
      "source": [
        "**Remember** to enable the GPU for this notebook before we start:\n",
        "\n",
        "1. by setting `Edit` >\n",
        "`Notebook settings` > `Hardware accelerator` to `GPU` or,\n",
        "\n",
        "2. by setting `Runtime` > `Change Runtime Type`> `Hardward Accelerator` to `GPU`."
      ],
      "metadata": {
        "id": "dAA7VzBZY2on"
      }
    },
    {
      "cell_type": "markdown",
      "metadata": {
        "id": "k2KWVeVT-dXv"
      },
      "source": [
        "Mount google drive onto virtual machine"
      ]
    },
    {
      "cell_type": "code",
      "execution_count": 1,
      "metadata": {
        "id": "0wMiAU9V-dX2",
        "outputId": "4e0d50cc-3743-4057-d96b-93049a32a53a",
        "colab": {
          "base_uri": "https://localhost:8080/"
        }
      },
      "outputs": [
        {
          "output_type": "stream",
          "name": "stdout",
          "text": [
            "Mounted at /content/gdrive\n"
          ]
        }
      ],
      "source": [
        "from google.colab import drive\n",
        "drive.mount('/content/gdrive')"
      ]
    },
    {
      "cell_type": "code",
      "execution_count": 2,
      "metadata": {
        "id": "jWdhHmts-dYF",
        "outputId": "63739ab9-b689-4212-efd2-8fb141e5b077",
        "colab": {
          "base_uri": "https://localhost:8080/"
        }
      },
      "outputs": [
        {
          "output_type": "stream",
          "name": "stdout",
          "text": [
            "/content/gdrive/MyDrive/PDL_2023\n"
          ]
        }
      ],
      "source": [
        "%cd \"/content/gdrive/MyDrive/PDL_2023\""
      ]
    },
    {
      "cell_type": "code",
      "source": [
        "!mkdir P07\n",
        "%cd ./P07"
      ],
      "metadata": {
        "id": "yZl5hIagIW84",
        "outputId": "d849ba72-1eee-45fd-e5da-890bbd1b8627",
        "colab": {
          "base_uri": "https://localhost:8080/"
        }
      },
      "execution_count": 3,
      "outputs": [
        {
          "output_type": "stream",
          "name": "stdout",
          "text": [
            "mkdir: cannot create directory ‘P07’: File exists\n",
            "/content/gdrive/MyDrive/PDL_2023/P07\n"
          ]
        }
      ]
    },
    {
      "cell_type": "markdown",
      "source": [
        "Download the helper function to load data"
      ],
      "metadata": {
        "id": "QbK4vmbdQ0Uh"
      }
    },
    {
      "cell_type": "code",
      "source": [
        "# Download the cifar10 function from google drive\n",
        "!gdown --fuzzy https://drive.google.com/file/d/1OgEoKomios7ZLSQGlG4NJHrH_mIGYK98/view?usp=sharing"
      ],
      "metadata": {
        "id": "N5XOu_s5QzXt",
        "outputId": "2eaf41f9-138d-4689-bbf6-be5be1eb6fff",
        "colab": {
          "base_uri": "https://localhost:8080/"
        }
      },
      "execution_count": 4,
      "outputs": [
        {
          "output_type": "stream",
          "name": "stdout",
          "text": [
            "Downloading...\n",
            "From (original): https://drive.google.com/uc?id=1OgEoKomios7ZLSQGlG4NJHrH_mIGYK98\n",
            "From (redirected): https://drive.google.com/uc?id=1OgEoKomios7ZLSQGlG4NJHrH_mIGYK98&confirm=t&uuid=ce4a6e40-40b5-4b37-b9f1-d2086b125a49\n",
            "To: /content/gdrive/MyDrive/PDL_2023/P07/cifar10.py\n",
            "\r  0% 0.00/1.48k [00:00<?, ?B/s]\r100% 1.48k/1.48k [00:00<00:00, 7.32MB/s]\n"
          ]
        }
      ]
    },
    {
      "cell_type": "markdown",
      "metadata": {
        "id": "nMc8XRwD-dYT"
      },
      "source": [
        "Load required libraries"
      ]
    },
    {
      "cell_type": "code",
      "execution_count": 5,
      "metadata": {
        "id": "NgG6mM_c-dYY"
      },
      "outputs": [],
      "source": [
        "import numpy as np\n",
        "import torchvision.models as models\n",
        "\n",
        "import torch, torchvision\n",
        "import torch.nn as nn\n",
        "import torch.nn.functional as F\n",
        "import torch.optim as optim\n",
        "from torch.utils.data import DataLoader\n",
        "import torchvision.transforms as transforms\n",
        "from torchsummary import summary\n",
        "\n",
        "from cifar10 import CIFAR10"
      ]
    },
    {
      "cell_type": "markdown",
      "metadata": {
        "id": "23H6bUc4-dY5"
      },
      "source": [
        "---\n",
        "## Helper Functions\n",
        "\n",
        "Define the train function"
      ]
    },
    {
      "cell_type": "code",
      "execution_count": 6,
      "metadata": {
        "id": "0G9F-olF-dY8"
      },
      "outputs": [],
      "source": [
        "loss_iter = 1\n",
        "\n",
        "def train(net, num_epochs, lr=0.1, momentum=0.9, verbose=True):\n",
        "\n",
        "    history = []\n",
        "\n",
        "    loss_iterations = int(np.ceil(len(trainloader)/loss_iter))\n",
        "\n",
        "    # transfer model to GPU\n",
        "    if torch.cuda.is_available():\n",
        "        net = net.cuda()\n",
        "\n",
        "    # set the optimizer\n",
        "    optimizer = optim.SGD(net.parameters(), lr=lr, momentum=momentum)\n",
        "\n",
        "    # set to training mode\n",
        "    net.train()\n",
        "\n",
        "    # train the network\n",
        "    for e in range(num_epochs):\n",
        "\n",
        "        running_loss = 0.0\n",
        "        running_count = 0.0\n",
        "\n",
        "        for i, (inputs, labels) in enumerate(trainloader):\n",
        "\n",
        "            # Clear all the gradient to 0\n",
        "            optimizer.zero_grad()\n",
        "\n",
        "            # transfer data to GPU\n",
        "            if torch.cuda.is_available():\n",
        "                inputs = inputs.cuda()\n",
        "                labels = labels.cuda()\n",
        "\n",
        "            # forward propagation to get h\n",
        "            outs = net(inputs)\n",
        "\n",
        "            # compute loss\n",
        "            loss = F.cross_entropy(outs, labels)\n",
        "\n",
        "            # backpropagation to get dw\n",
        "            loss.backward()\n",
        "\n",
        "            # update w\n",
        "            optimizer.step()\n",
        "\n",
        "            # get the loss\n",
        "            running_loss += loss.item()\n",
        "            running_count += 1\n",
        "\n",
        "             # display the averaged loss value\n",
        "            if i % loss_iterations == loss_iterations-1 or i == len(trainloader) - 1:\n",
        "                train_loss = running_loss / running_count\n",
        "                running_loss = 0.\n",
        "                running_count = 0.\n",
        "                if verbose:\n",
        "                    print(f'[Epoch {e+1:2d}/{num_epochs:d} Iter {i+1:5d}/{len(trainloader)}]: train_loss = {train_loss:.4f}')\n",
        "\n",
        "                history.append(train_loss)\n",
        "\n",
        "    return history"
      ]
    },
    {
      "cell_type": "markdown",
      "metadata": {
        "id": "ljSQ0NXh-dZD"
      },
      "source": [
        "Define the evaluate function"
      ]
    },
    {
      "cell_type": "code",
      "execution_count": 7,
      "metadata": {
        "id": "iBvtq0t3-dZG"
      },
      "outputs": [],
      "source": [
        "def evaluate(net):\n",
        "    # set to evaluation mode\n",
        "    net.eval()\n",
        "\n",
        "    # running_correct\n",
        "    running_corrects = 0\n",
        "\n",
        "    for inputs, targets in testloader:\n",
        "\n",
        "        # transfer to the GPU\n",
        "        if torch.cuda.is_available():\n",
        "            inputs = inputs.cuda()\n",
        "            targets = targets.cuda()\n",
        "\n",
        "        # perform prediction (no need to compute gradient)\n",
        "        with torch.no_grad():\n",
        "            outputs = net(inputs)\n",
        "            _, predicted = torch.max(outputs, 1)\n",
        "            running_corrects += (targets == predicted).double().sum()\n",
        "\n",
        "    print('Accuracy = {:.2f}%'.format(100*running_corrects/len(testloader.dataset)))"
      ]
    },
    {
      "cell_type": "markdown",
      "metadata": {
        "id": "ws7qs6tr-dZM"
      },
      "source": [
        "---\n",
        "## 1 Load CIFAR10 dataset\n",
        "\n",
        "Load the dataset with the following transformation pipeline.\n",
        "\n",
        "**Noted:**\n",
        "\n",
        "We are using a sub-sample of CIFAR10 where we use a sub-sample of 1000 training and testing samples.\n",
        "\n",
        "The sample size is **small** and hence is expected to face **overfitting** issue. Using a pretrained model is helpful to alleviate the problem."
      ]
    },
    {
      "cell_type": "code",
      "execution_count": 8,
      "metadata": {
        "id": "1eqihDIp-dZO",
        "outputId": "9c03bde2-f688-4087-cd8c-79f3f5d5cae6",
        "colab": {
          "base_uri": "https://localhost:8080/"
        }
      },
      "outputs": [
        {
          "output_type": "stream",
          "name": "stdout",
          "text": [
            "Files already downloaded and verified\n",
            "Files already downloaded and verified\n"
          ]
        }
      ],
      "source": [
        "# transform the model\n",
        "transform = transforms.Compose([\n",
        "    transforms.ToPILImage(),\n",
        "    transforms.Resize(256),\n",
        "    transforms.RandomCrop(224),\n",
        "    transforms.RandomHorizontalFlip(),\n",
        "    transforms.ToTensor(),\n",
        "    transforms.Normalize((0.5, 0.5, 0.5), (0.5, 0.5, 0.5))\n",
        "])\n",
        "\n",
        "\n",
        "trainset = CIFAR10(train=True, download=True, transform=transform, num_samples=1000)\n",
        "testset  = CIFAR10(train=False, download=True, transform=transform, num_samples=1000)\n",
        "\n",
        "trainloader = DataLoader(trainset, batch_size=32, shuffle=True, num_workers=2)\n",
        "testloader  = DataLoader(testset, batch_size=128, shuffle=True, num_workers=2)"
      ]
    },
    {
      "cell_type": "markdown",
      "metadata": {
        "id": "XNm3qtT0-dZS"
      },
      "source": [
        "---\n",
        "\n",
        "## 2 ResNet50 model\n",
        "\n",
        "In this practical, we will use  a pre-trained [ResNet50](https://pytorch.org/vision/stable/models/generated/torchvision.models.resnet50.html#resnet50) for the 4 training methods.\n",
        "\n",
        "**Noted:**\n",
        "\n",
        " * The original ResNet50 was designed to classify ImageNet's 1000 image categories\n",
        "\n",
        "* Since we will be using CIFAR10 (10 classes), we need to customize the network by replacing its classifier layer (last fc layer)  later\n",
        "\n"
      ]
    },
    {
      "cell_type": "markdown",
      "source": [
        "\n",
        "### 2.1 Loading the pretrained models\n",
        "\n",
        "`TorchVision` provides two pretrained models for ResNet50 together their reported accurcies on ImageNet-1K with single crops:\n",
        "\n",
        "|**weight**|**Acc@1**|**Acc@5**|**Params**|\n",
        "|:---:|:---:|:---:|:---:|\n",
        "|ResNet50_Weights.IMAGENET1K_V1|76.13|92.862|25.6MB|\n",
        "|ResNet50_Weights.IMAGENET1K_V2|80.858|95.434|25.6MB|\n",
        "\n",
        "where IMAGENET1K_V2 improves upon IMAGENET1K_V1 by using a new [training recipe](https://pytorch.org/blog/how-to-train-state-of-the-art-models-using-torchvision-latest-primitives/)\n",
        "\n",
        "We can specify the pretrained model through:\n",
        "1. predefined constant argument, or\n",
        "2. string argument\n"
      ],
      "metadata": {
        "id": "1y_j55xWu2Ey"
      }
    },
    {
      "cell_type": "code",
      "execution_count": 9,
      "metadata": {
        "id": "iegSJvm5M8Ty"
      },
      "outputs": [],
      "source": [
        "from torchvision.models import resnet50, ResNet50_Weights"
      ]
    },
    {
      "cell_type": "code",
      "execution_count": 10,
      "metadata": {
        "id": "JVkKmuqcWfDS",
        "outputId": "1b4684e4-58e2-4a7e-8f0d-1c9b5e129acc",
        "colab": {
          "base_uri": "https://localhost:8080/"
        }
      },
      "outputs": [
        {
          "output_type": "stream",
          "name": "stderr",
          "text": [
            "Downloading: \"https://download.pytorch.org/models/resnet50-11ad3fa6.pth\" to /root/.cache/torch/hub/checkpoints/resnet50-11ad3fa6.pth\n",
            "100%|██████████| 97.8M/97.8M [00:01<00:00, 94.7MB/s]\n"
          ]
        }
      ],
      "source": [
        "# load pretrained resnet18 model with predefined constant argument\n",
        "net = resnet50(weights=ResNet50_Weights.IMAGENET1K_V2)"
      ]
    },
    {
      "cell_type": "code",
      "execution_count": 11,
      "metadata": {
        "id": "zYI9FrywPL-s"
      },
      "outputs": [],
      "source": [
        "# load pretrained resnet18 model with string argument\n",
        "net = resnet50(weights=\"IMAGENET1K_V2\")"
      ]
    },
    {
      "cell_type": "markdown",
      "metadata": {
        "id": "79wcOsOZObDC"
      },
      "source": [
        "### 2.2 Inferencing with the pretrained model\n",
        "\n",
        "Some pretrained model needs specific preprocessing steps (e.g., resize into a specific resolution / rescale the values, etc.)\n",
        "\n",
        "The preprocessing steps vary depending on how the model was trained. The necessary information for inference transforms are provided on the weight documentation.\n",
        "\n",
        "To simplify inference, `TorchVision` bundle  `transform` utility into `ResNet.Weights` (do not require transform pipelibe)\n",
        "\n",
        "Let's try a simple example of \"tabby cat\"."
      ]
    },
    {
      "cell_type": "code",
      "source": [
        "# Download the example image from drive\n",
        "!gdown --fuzzy https://drive.google.com/file/d/1Ury2q1BmuwHO1HufuwmVu3_4zh72UoYT/view?usp=drive_link"
      ],
      "metadata": {
        "id": "4FPljxnbMX2t",
        "outputId": "2c4a412c-b03f-4be9-d7ef-032c87485705",
        "colab": {
          "base_uri": "https://localhost:8080/"
        }
      },
      "execution_count": 12,
      "outputs": [
        {
          "output_type": "stream",
          "name": "stdout",
          "text": [
            "Downloading...\n",
            "From: https://drive.google.com/uc?id=1Ury2q1BmuwHO1HufuwmVu3_4zh72UoYT\n",
            "To: /content/gdrive/MyDrive/PDL_2023/P07/Tabby_cat.jpg\n",
            "\r  0% 0.00/17.8k [00:00<?, ?B/s]\r100% 17.8k/17.8k [00:00<00:00, 45.5MB/s]\n"
          ]
        }
      ]
    },
    {
      "cell_type": "code",
      "execution_count": 13,
      "metadata": {
        "id": "D5fKx4JcQ0mI"
      },
      "outputs": [],
      "source": [
        "# load the preprocess function for image transformation\n",
        "weight = ResNet50_Weights.IMAGENET1K_V2\n",
        "preprocess = weight.transforms()"
      ]
    },
    {
      "cell_type": "code",
      "execution_count": 14,
      "metadata": {
        "id": "g0LHr6uqRten",
        "outputId": "5186fced-a6fc-4c77-94b8-968dd0f53ce2",
        "colab": {
          "base_uri": "https://localhost:8080/"
        }
      },
      "outputs": [
        {
          "output_type": "stream",
          "name": "stdout",
          "text": [
            "Shape of x (before preprocessing) torch.Size([3, 162, 288])\n",
            "Shape of x after preprocessing: torch.Size([3, 224, 224])\n",
            "Shape of x after unsqueezing: torch.Size([1, 3, 224, 224])\n"
          ]
        },
        {
          "output_type": "stream",
          "name": "stderr",
          "text": [
            "/usr/local/lib/python3.10/dist-packages/torchvision/transforms/functional.py:1603: UserWarning: The default value of the antialias parameter of all the resizing transforms (Resize(), RandomResizedCrop(), etc.) will change from None to True in v0.17, in order to be consistent across the PIL and Tensor backends. To suppress this warning, directly pass antialias=True (recommended, future default), antialias=None (current default, which means False for Tensors and True for PIL), or antialias=False (only works on Tensors - PIL will still use antialiasing). This also applies if you are using the inference transforms from the models weights: update the call to weights.transforms(antialias=True).\n",
            "  warnings.warn(\n"
          ]
        }
      ],
      "source": [
        "# read image\n",
        "from torchvision.io import read_image\n",
        "img = read_image('Tabby_cat.jpg')\n",
        "print('Shape of x (before preprocessing)', img.shape)\n",
        "\n",
        "# preprocess image will return shape (C,H,W)\n",
        "x = preprocess(img)\n",
        "print('Shape of x after preprocessing:', x.shape)\n",
        "\n",
        "# we have to create the batch dimension (1, C, H, W)\n",
        "x = x.unsqueeze(0)\n",
        "\n",
        "print('Shape of x after unsqueezing:', x.shape)"
      ]
    },
    {
      "cell_type": "markdown",
      "metadata": {
        "id": "yRxAm0w7VG44"
      },
      "source": [
        "Now we can perform inference with the pretrained model.\n",
        "\n",
        " The classes of the pretrained model can be found at `weights.meta['categories']`."
      ]
    },
    {
      "cell_type": "code",
      "execution_count": 15,
      "metadata": {
        "id": "jLTn5qeFU90g",
        "outputId": "46dc422e-c018-431e-b6b3-3c900d82e7d7",
        "colab": {
          "base_uri": "https://localhost:8080/"
        }
      },
      "outputs": [
        {
          "output_type": "stream",
          "name": "stdout",
          "text": [
            "Predicted label = tabby\n"
          ]
        }
      ],
      "source": [
        "net.eval()\n",
        "with torch.no_grad():\n",
        "        score = net(x)\n",
        "        predicted = score.argmax(axis=1)[0]\n",
        "\n",
        "print('Predicted label =', weight.meta['categories'][predicted])"
      ]
    },
    {
      "cell_type": "markdown",
      "metadata": {
        "id": "_kDePxTL7kgV"
      },
      "source": [
        "\n",
        "### 2.3 Customizing ResNet50\n",
        "\n",
        "Now, let's replace the last layer with a new classifier layer so that it is adaptable to  Cifar10's 10 classes.\n",
        "\n",
        "First, let's check the architecture of ResNet50 and how it is implemented in PyTorch:"
      ]
    },
    {
      "cell_type": "code",
      "execution_count": 16,
      "metadata": {
        "id": "cCT1cjPD-dZb",
        "outputId": "470e877a-17ed-45a4-a89c-14ce64a5d99c",
        "colab": {
          "base_uri": "https://localhost:8080/"
        }
      },
      "outputs": [
        {
          "output_type": "stream",
          "name": "stdout",
          "text": [
            "ResNet(\n",
            "  (conv1): Conv2d(3, 64, kernel_size=(7, 7), stride=(2, 2), padding=(3, 3), bias=False)\n",
            "  (bn1): BatchNorm2d(64, eps=1e-05, momentum=0.1, affine=True, track_running_stats=True)\n",
            "  (relu): ReLU(inplace=True)\n",
            "  (maxpool): MaxPool2d(kernel_size=3, stride=2, padding=1, dilation=1, ceil_mode=False)\n",
            "  (layer1): Sequential(\n",
            "    (0): Bottleneck(\n",
            "      (conv1): Conv2d(64, 64, kernel_size=(1, 1), stride=(1, 1), bias=False)\n",
            "      (bn1): BatchNorm2d(64, eps=1e-05, momentum=0.1, affine=True, track_running_stats=True)\n",
            "      (conv2): Conv2d(64, 64, kernel_size=(3, 3), stride=(1, 1), padding=(1, 1), bias=False)\n",
            "      (bn2): BatchNorm2d(64, eps=1e-05, momentum=0.1, affine=True, track_running_stats=True)\n",
            "      (conv3): Conv2d(64, 256, kernel_size=(1, 1), stride=(1, 1), bias=False)\n",
            "      (bn3): BatchNorm2d(256, eps=1e-05, momentum=0.1, affine=True, track_running_stats=True)\n",
            "      (relu): ReLU(inplace=True)\n",
            "      (downsample): Sequential(\n",
            "        (0): Conv2d(64, 256, kernel_size=(1, 1), stride=(1, 1), bias=False)\n",
            "        (1): BatchNorm2d(256, eps=1e-05, momentum=0.1, affine=True, track_running_stats=True)\n",
            "      )\n",
            "    )\n",
            "    (1): Bottleneck(\n",
            "      (conv1): Conv2d(256, 64, kernel_size=(1, 1), stride=(1, 1), bias=False)\n",
            "      (bn1): BatchNorm2d(64, eps=1e-05, momentum=0.1, affine=True, track_running_stats=True)\n",
            "      (conv2): Conv2d(64, 64, kernel_size=(3, 3), stride=(1, 1), padding=(1, 1), bias=False)\n",
            "      (bn2): BatchNorm2d(64, eps=1e-05, momentum=0.1, affine=True, track_running_stats=True)\n",
            "      (conv3): Conv2d(64, 256, kernel_size=(1, 1), stride=(1, 1), bias=False)\n",
            "      (bn3): BatchNorm2d(256, eps=1e-05, momentum=0.1, affine=True, track_running_stats=True)\n",
            "      (relu): ReLU(inplace=True)\n",
            "    )\n",
            "    (2): Bottleneck(\n",
            "      (conv1): Conv2d(256, 64, kernel_size=(1, 1), stride=(1, 1), bias=False)\n",
            "      (bn1): BatchNorm2d(64, eps=1e-05, momentum=0.1, affine=True, track_running_stats=True)\n",
            "      (conv2): Conv2d(64, 64, kernel_size=(3, 3), stride=(1, 1), padding=(1, 1), bias=False)\n",
            "      (bn2): BatchNorm2d(64, eps=1e-05, momentum=0.1, affine=True, track_running_stats=True)\n",
            "      (conv3): Conv2d(64, 256, kernel_size=(1, 1), stride=(1, 1), bias=False)\n",
            "      (bn3): BatchNorm2d(256, eps=1e-05, momentum=0.1, affine=True, track_running_stats=True)\n",
            "      (relu): ReLU(inplace=True)\n",
            "    )\n",
            "  )\n",
            "  (layer2): Sequential(\n",
            "    (0): Bottleneck(\n",
            "      (conv1): Conv2d(256, 128, kernel_size=(1, 1), stride=(1, 1), bias=False)\n",
            "      (bn1): BatchNorm2d(128, eps=1e-05, momentum=0.1, affine=True, track_running_stats=True)\n",
            "      (conv2): Conv2d(128, 128, kernel_size=(3, 3), stride=(2, 2), padding=(1, 1), bias=False)\n",
            "      (bn2): BatchNorm2d(128, eps=1e-05, momentum=0.1, affine=True, track_running_stats=True)\n",
            "      (conv3): Conv2d(128, 512, kernel_size=(1, 1), stride=(1, 1), bias=False)\n",
            "      (bn3): BatchNorm2d(512, eps=1e-05, momentum=0.1, affine=True, track_running_stats=True)\n",
            "      (relu): ReLU(inplace=True)\n",
            "      (downsample): Sequential(\n",
            "        (0): Conv2d(256, 512, kernel_size=(1, 1), stride=(2, 2), bias=False)\n",
            "        (1): BatchNorm2d(512, eps=1e-05, momentum=0.1, affine=True, track_running_stats=True)\n",
            "      )\n",
            "    )\n",
            "    (1): Bottleneck(\n",
            "      (conv1): Conv2d(512, 128, kernel_size=(1, 1), stride=(1, 1), bias=False)\n",
            "      (bn1): BatchNorm2d(128, eps=1e-05, momentum=0.1, affine=True, track_running_stats=True)\n",
            "      (conv2): Conv2d(128, 128, kernel_size=(3, 3), stride=(1, 1), padding=(1, 1), bias=False)\n",
            "      (bn2): BatchNorm2d(128, eps=1e-05, momentum=0.1, affine=True, track_running_stats=True)\n",
            "      (conv3): Conv2d(128, 512, kernel_size=(1, 1), stride=(1, 1), bias=False)\n",
            "      (bn3): BatchNorm2d(512, eps=1e-05, momentum=0.1, affine=True, track_running_stats=True)\n",
            "      (relu): ReLU(inplace=True)\n",
            "    )\n",
            "    (2): Bottleneck(\n",
            "      (conv1): Conv2d(512, 128, kernel_size=(1, 1), stride=(1, 1), bias=False)\n",
            "      (bn1): BatchNorm2d(128, eps=1e-05, momentum=0.1, affine=True, track_running_stats=True)\n",
            "      (conv2): Conv2d(128, 128, kernel_size=(3, 3), stride=(1, 1), padding=(1, 1), bias=False)\n",
            "      (bn2): BatchNorm2d(128, eps=1e-05, momentum=0.1, affine=True, track_running_stats=True)\n",
            "      (conv3): Conv2d(128, 512, kernel_size=(1, 1), stride=(1, 1), bias=False)\n",
            "      (bn3): BatchNorm2d(512, eps=1e-05, momentum=0.1, affine=True, track_running_stats=True)\n",
            "      (relu): ReLU(inplace=True)\n",
            "    )\n",
            "    (3): Bottleneck(\n",
            "      (conv1): Conv2d(512, 128, kernel_size=(1, 1), stride=(1, 1), bias=False)\n",
            "      (bn1): BatchNorm2d(128, eps=1e-05, momentum=0.1, affine=True, track_running_stats=True)\n",
            "      (conv2): Conv2d(128, 128, kernel_size=(3, 3), stride=(1, 1), padding=(1, 1), bias=False)\n",
            "      (bn2): BatchNorm2d(128, eps=1e-05, momentum=0.1, affine=True, track_running_stats=True)\n",
            "      (conv3): Conv2d(128, 512, kernel_size=(1, 1), stride=(1, 1), bias=False)\n",
            "      (bn3): BatchNorm2d(512, eps=1e-05, momentum=0.1, affine=True, track_running_stats=True)\n",
            "      (relu): ReLU(inplace=True)\n",
            "    )\n",
            "  )\n",
            "  (layer3): Sequential(\n",
            "    (0): Bottleneck(\n",
            "      (conv1): Conv2d(512, 256, kernel_size=(1, 1), stride=(1, 1), bias=False)\n",
            "      (bn1): BatchNorm2d(256, eps=1e-05, momentum=0.1, affine=True, track_running_stats=True)\n",
            "      (conv2): Conv2d(256, 256, kernel_size=(3, 3), stride=(2, 2), padding=(1, 1), bias=False)\n",
            "      (bn2): BatchNorm2d(256, eps=1e-05, momentum=0.1, affine=True, track_running_stats=True)\n",
            "      (conv3): Conv2d(256, 1024, kernel_size=(1, 1), stride=(1, 1), bias=False)\n",
            "      (bn3): BatchNorm2d(1024, eps=1e-05, momentum=0.1, affine=True, track_running_stats=True)\n",
            "      (relu): ReLU(inplace=True)\n",
            "      (downsample): Sequential(\n",
            "        (0): Conv2d(512, 1024, kernel_size=(1, 1), stride=(2, 2), bias=False)\n",
            "        (1): BatchNorm2d(1024, eps=1e-05, momentum=0.1, affine=True, track_running_stats=True)\n",
            "      )\n",
            "    )\n",
            "    (1): Bottleneck(\n",
            "      (conv1): Conv2d(1024, 256, kernel_size=(1, 1), stride=(1, 1), bias=False)\n",
            "      (bn1): BatchNorm2d(256, eps=1e-05, momentum=0.1, affine=True, track_running_stats=True)\n",
            "      (conv2): Conv2d(256, 256, kernel_size=(3, 3), stride=(1, 1), padding=(1, 1), bias=False)\n",
            "      (bn2): BatchNorm2d(256, eps=1e-05, momentum=0.1, affine=True, track_running_stats=True)\n",
            "      (conv3): Conv2d(256, 1024, kernel_size=(1, 1), stride=(1, 1), bias=False)\n",
            "      (bn3): BatchNorm2d(1024, eps=1e-05, momentum=0.1, affine=True, track_running_stats=True)\n",
            "      (relu): ReLU(inplace=True)\n",
            "    )\n",
            "    (2): Bottleneck(\n",
            "      (conv1): Conv2d(1024, 256, kernel_size=(1, 1), stride=(1, 1), bias=False)\n",
            "      (bn1): BatchNorm2d(256, eps=1e-05, momentum=0.1, affine=True, track_running_stats=True)\n",
            "      (conv2): Conv2d(256, 256, kernel_size=(3, 3), stride=(1, 1), padding=(1, 1), bias=False)\n",
            "      (bn2): BatchNorm2d(256, eps=1e-05, momentum=0.1, affine=True, track_running_stats=True)\n",
            "      (conv3): Conv2d(256, 1024, kernel_size=(1, 1), stride=(1, 1), bias=False)\n",
            "      (bn3): BatchNorm2d(1024, eps=1e-05, momentum=0.1, affine=True, track_running_stats=True)\n",
            "      (relu): ReLU(inplace=True)\n",
            "    )\n",
            "    (3): Bottleneck(\n",
            "      (conv1): Conv2d(1024, 256, kernel_size=(1, 1), stride=(1, 1), bias=False)\n",
            "      (bn1): BatchNorm2d(256, eps=1e-05, momentum=0.1, affine=True, track_running_stats=True)\n",
            "      (conv2): Conv2d(256, 256, kernel_size=(3, 3), stride=(1, 1), padding=(1, 1), bias=False)\n",
            "      (bn2): BatchNorm2d(256, eps=1e-05, momentum=0.1, affine=True, track_running_stats=True)\n",
            "      (conv3): Conv2d(256, 1024, kernel_size=(1, 1), stride=(1, 1), bias=False)\n",
            "      (bn3): BatchNorm2d(1024, eps=1e-05, momentum=0.1, affine=True, track_running_stats=True)\n",
            "      (relu): ReLU(inplace=True)\n",
            "    )\n",
            "    (4): Bottleneck(\n",
            "      (conv1): Conv2d(1024, 256, kernel_size=(1, 1), stride=(1, 1), bias=False)\n",
            "      (bn1): BatchNorm2d(256, eps=1e-05, momentum=0.1, affine=True, track_running_stats=True)\n",
            "      (conv2): Conv2d(256, 256, kernel_size=(3, 3), stride=(1, 1), padding=(1, 1), bias=False)\n",
            "      (bn2): BatchNorm2d(256, eps=1e-05, momentum=0.1, affine=True, track_running_stats=True)\n",
            "      (conv3): Conv2d(256, 1024, kernel_size=(1, 1), stride=(1, 1), bias=False)\n",
            "      (bn3): BatchNorm2d(1024, eps=1e-05, momentum=0.1, affine=True, track_running_stats=True)\n",
            "      (relu): ReLU(inplace=True)\n",
            "    )\n",
            "    (5): Bottleneck(\n",
            "      (conv1): Conv2d(1024, 256, kernel_size=(1, 1), stride=(1, 1), bias=False)\n",
            "      (bn1): BatchNorm2d(256, eps=1e-05, momentum=0.1, affine=True, track_running_stats=True)\n",
            "      (conv2): Conv2d(256, 256, kernel_size=(3, 3), stride=(1, 1), padding=(1, 1), bias=False)\n",
            "      (bn2): BatchNorm2d(256, eps=1e-05, momentum=0.1, affine=True, track_running_stats=True)\n",
            "      (conv3): Conv2d(256, 1024, kernel_size=(1, 1), stride=(1, 1), bias=False)\n",
            "      (bn3): BatchNorm2d(1024, eps=1e-05, momentum=0.1, affine=True, track_running_stats=True)\n",
            "      (relu): ReLU(inplace=True)\n",
            "    )\n",
            "  )\n",
            "  (layer4): Sequential(\n",
            "    (0): Bottleneck(\n",
            "      (conv1): Conv2d(1024, 512, kernel_size=(1, 1), stride=(1, 1), bias=False)\n",
            "      (bn1): BatchNorm2d(512, eps=1e-05, momentum=0.1, affine=True, track_running_stats=True)\n",
            "      (conv2): Conv2d(512, 512, kernel_size=(3, 3), stride=(2, 2), padding=(1, 1), bias=False)\n",
            "      (bn2): BatchNorm2d(512, eps=1e-05, momentum=0.1, affine=True, track_running_stats=True)\n",
            "      (conv3): Conv2d(512, 2048, kernel_size=(1, 1), stride=(1, 1), bias=False)\n",
            "      (bn3): BatchNorm2d(2048, eps=1e-05, momentum=0.1, affine=True, track_running_stats=True)\n",
            "      (relu): ReLU(inplace=True)\n",
            "      (downsample): Sequential(\n",
            "        (0): Conv2d(1024, 2048, kernel_size=(1, 1), stride=(2, 2), bias=False)\n",
            "        (1): BatchNorm2d(2048, eps=1e-05, momentum=0.1, affine=True, track_running_stats=True)\n",
            "      )\n",
            "    )\n",
            "    (1): Bottleneck(\n",
            "      (conv1): Conv2d(2048, 512, kernel_size=(1, 1), stride=(1, 1), bias=False)\n",
            "      (bn1): BatchNorm2d(512, eps=1e-05, momentum=0.1, affine=True, track_running_stats=True)\n",
            "      (conv2): Conv2d(512, 512, kernel_size=(3, 3), stride=(1, 1), padding=(1, 1), bias=False)\n",
            "      (bn2): BatchNorm2d(512, eps=1e-05, momentum=0.1, affine=True, track_running_stats=True)\n",
            "      (conv3): Conv2d(512, 2048, kernel_size=(1, 1), stride=(1, 1), bias=False)\n",
            "      (bn3): BatchNorm2d(2048, eps=1e-05, momentum=0.1, affine=True, track_running_stats=True)\n",
            "      (relu): ReLU(inplace=True)\n",
            "    )\n",
            "    (2): Bottleneck(\n",
            "      (conv1): Conv2d(2048, 512, kernel_size=(1, 1), stride=(1, 1), bias=False)\n",
            "      (bn1): BatchNorm2d(512, eps=1e-05, momentum=0.1, affine=True, track_running_stats=True)\n",
            "      (conv2): Conv2d(512, 512, kernel_size=(3, 3), stride=(1, 1), padding=(1, 1), bias=False)\n",
            "      (bn2): BatchNorm2d(512, eps=1e-05, momentum=0.1, affine=True, track_running_stats=True)\n",
            "      (conv3): Conv2d(512, 2048, kernel_size=(1, 1), stride=(1, 1), bias=False)\n",
            "      (bn3): BatchNorm2d(2048, eps=1e-05, momentum=0.1, affine=True, track_running_stats=True)\n",
            "      (relu): ReLU(inplace=True)\n",
            "    )\n",
            "  )\n",
            "  (avgpool): AdaptiveAvgPool2d(output_size=(1, 1))\n",
            "  (fc): Linear(in_features=2048, out_features=1000, bias=True)\n",
            ")\n"
          ]
        }
      ],
      "source": [
        "print(net)"
      ]
    },
    {
      "cell_type": "markdown",
      "source": [
        "Check at higher level: displaying only the children of network (named blocks):\n"
      ],
      "metadata": {
        "id": "Iclc6-IM2SCe"
      }
    },
    {
      "cell_type": "code",
      "execution_count": 17,
      "metadata": {
        "id": "CrWZSU_xHLRg",
        "outputId": "7454ae24-89a2-4137-bdcc-50d0eeca86d3",
        "colab": {
          "base_uri": "https://localhost:8080/"
        }
      },
      "outputs": [
        {
          "output_type": "stream",
          "name": "stdout",
          "text": [
            "conv1\n",
            "bn1\n",
            "relu\n",
            "maxpool\n",
            "layer1\n",
            "layer2\n",
            "layer3\n",
            "layer4\n",
            "avgpool\n",
            "fc\n"
          ]
        }
      ],
      "source": [
        "# print the children of network\n",
        "for name, _ in net.named_children():\n",
        "       print(name)"
      ]
    },
    {
      "cell_type": "markdown",
      "metadata": {
        "id": "4JVfe784-dZk"
      },
      "source": [
        "Here are some observations:\n",
        "* `conv1`, `bn1`, `relu` and `maxpool` are the *stem* network\n",
        "* There are 4 *blocks* in the network, namely `layer1`, `layer2`, `layer3` and `layer4`.\n",
        "* Each of the block contains two convolutional layers.\n",
        "* The second last layer (`avgpool`) performs *global average pooling* to average out the spatial dimensions.\n",
        "* The last layer (`fc`) is a linear layer that functions as a classifier. (This is the layer that we want to replace to fit our model)\n",
        "\n",
        "Now, lets customize the network by replacing the `fc` layer with our own classifier layer.\n"
      ]
    },
    {
      "cell_type": "code",
      "execution_count": 18,
      "metadata": {
        "id": "qJLn-l4C-dZl"
      },
      "outputs": [],
      "source": [
        "def build_network(weights=None):\n",
        "        net = resnet50(weights=weights)\n",
        "        in_c = net.fc.in_features\n",
        "        net.fc = nn.Linear(in_c, 10)\n",
        "        return net"
      ]
    },
    {
      "cell_type": "markdown",
      "metadata": {
        "id": "LZ0QEzwX-dZr"
      },
      "source": [
        "Let's visualize the customized network again.\n",
        "\n",
        "You should find  the last layer of the network (`fc`) now has 10 instead of 1000 neurons."
      ]
    },
    {
      "cell_type": "code",
      "execution_count": 19,
      "metadata": {
        "id": "H83zW0QF-dZs",
        "scrolled": false,
        "outputId": "539f5b22-fdcc-43dc-e51e-9bf48aba9078",
        "colab": {
          "base_uri": "https://localhost:8080/"
        }
      },
      "outputs": [
        {
          "output_type": "stream",
          "name": "stdout",
          "text": [
            "ResNet(\n",
            "  (conv1): Conv2d(3, 64, kernel_size=(7, 7), stride=(2, 2), padding=(3, 3), bias=False)\n",
            "  (bn1): BatchNorm2d(64, eps=1e-05, momentum=0.1, affine=True, track_running_stats=True)\n",
            "  (relu): ReLU(inplace=True)\n",
            "  (maxpool): MaxPool2d(kernel_size=3, stride=2, padding=1, dilation=1, ceil_mode=False)\n",
            "  (layer1): Sequential(\n",
            "    (0): Bottleneck(\n",
            "      (conv1): Conv2d(64, 64, kernel_size=(1, 1), stride=(1, 1), bias=False)\n",
            "      (bn1): BatchNorm2d(64, eps=1e-05, momentum=0.1, affine=True, track_running_stats=True)\n",
            "      (conv2): Conv2d(64, 64, kernel_size=(3, 3), stride=(1, 1), padding=(1, 1), bias=False)\n",
            "      (bn2): BatchNorm2d(64, eps=1e-05, momentum=0.1, affine=True, track_running_stats=True)\n",
            "      (conv3): Conv2d(64, 256, kernel_size=(1, 1), stride=(1, 1), bias=False)\n",
            "      (bn3): BatchNorm2d(256, eps=1e-05, momentum=0.1, affine=True, track_running_stats=True)\n",
            "      (relu): ReLU(inplace=True)\n",
            "      (downsample): Sequential(\n",
            "        (0): Conv2d(64, 256, kernel_size=(1, 1), stride=(1, 1), bias=False)\n",
            "        (1): BatchNorm2d(256, eps=1e-05, momentum=0.1, affine=True, track_running_stats=True)\n",
            "      )\n",
            "    )\n",
            "    (1): Bottleneck(\n",
            "      (conv1): Conv2d(256, 64, kernel_size=(1, 1), stride=(1, 1), bias=False)\n",
            "      (bn1): BatchNorm2d(64, eps=1e-05, momentum=0.1, affine=True, track_running_stats=True)\n",
            "      (conv2): Conv2d(64, 64, kernel_size=(3, 3), stride=(1, 1), padding=(1, 1), bias=False)\n",
            "      (bn2): BatchNorm2d(64, eps=1e-05, momentum=0.1, affine=True, track_running_stats=True)\n",
            "      (conv3): Conv2d(64, 256, kernel_size=(1, 1), stride=(1, 1), bias=False)\n",
            "      (bn3): BatchNorm2d(256, eps=1e-05, momentum=0.1, affine=True, track_running_stats=True)\n",
            "      (relu): ReLU(inplace=True)\n",
            "    )\n",
            "    (2): Bottleneck(\n",
            "      (conv1): Conv2d(256, 64, kernel_size=(1, 1), stride=(1, 1), bias=False)\n",
            "      (bn1): BatchNorm2d(64, eps=1e-05, momentum=0.1, affine=True, track_running_stats=True)\n",
            "      (conv2): Conv2d(64, 64, kernel_size=(3, 3), stride=(1, 1), padding=(1, 1), bias=False)\n",
            "      (bn2): BatchNorm2d(64, eps=1e-05, momentum=0.1, affine=True, track_running_stats=True)\n",
            "      (conv3): Conv2d(64, 256, kernel_size=(1, 1), stride=(1, 1), bias=False)\n",
            "      (bn3): BatchNorm2d(256, eps=1e-05, momentum=0.1, affine=True, track_running_stats=True)\n",
            "      (relu): ReLU(inplace=True)\n",
            "    )\n",
            "  )\n",
            "  (layer2): Sequential(\n",
            "    (0): Bottleneck(\n",
            "      (conv1): Conv2d(256, 128, kernel_size=(1, 1), stride=(1, 1), bias=False)\n",
            "      (bn1): BatchNorm2d(128, eps=1e-05, momentum=0.1, affine=True, track_running_stats=True)\n",
            "      (conv2): Conv2d(128, 128, kernel_size=(3, 3), stride=(2, 2), padding=(1, 1), bias=False)\n",
            "      (bn2): BatchNorm2d(128, eps=1e-05, momentum=0.1, affine=True, track_running_stats=True)\n",
            "      (conv3): Conv2d(128, 512, kernel_size=(1, 1), stride=(1, 1), bias=False)\n",
            "      (bn3): BatchNorm2d(512, eps=1e-05, momentum=0.1, affine=True, track_running_stats=True)\n",
            "      (relu): ReLU(inplace=True)\n",
            "      (downsample): Sequential(\n",
            "        (0): Conv2d(256, 512, kernel_size=(1, 1), stride=(2, 2), bias=False)\n",
            "        (1): BatchNorm2d(512, eps=1e-05, momentum=0.1, affine=True, track_running_stats=True)\n",
            "      )\n",
            "    )\n",
            "    (1): Bottleneck(\n",
            "      (conv1): Conv2d(512, 128, kernel_size=(1, 1), stride=(1, 1), bias=False)\n",
            "      (bn1): BatchNorm2d(128, eps=1e-05, momentum=0.1, affine=True, track_running_stats=True)\n",
            "      (conv2): Conv2d(128, 128, kernel_size=(3, 3), stride=(1, 1), padding=(1, 1), bias=False)\n",
            "      (bn2): BatchNorm2d(128, eps=1e-05, momentum=0.1, affine=True, track_running_stats=True)\n",
            "      (conv3): Conv2d(128, 512, kernel_size=(1, 1), stride=(1, 1), bias=False)\n",
            "      (bn3): BatchNorm2d(512, eps=1e-05, momentum=0.1, affine=True, track_running_stats=True)\n",
            "      (relu): ReLU(inplace=True)\n",
            "    )\n",
            "    (2): Bottleneck(\n",
            "      (conv1): Conv2d(512, 128, kernel_size=(1, 1), stride=(1, 1), bias=False)\n",
            "      (bn1): BatchNorm2d(128, eps=1e-05, momentum=0.1, affine=True, track_running_stats=True)\n",
            "      (conv2): Conv2d(128, 128, kernel_size=(3, 3), stride=(1, 1), padding=(1, 1), bias=False)\n",
            "      (bn2): BatchNorm2d(128, eps=1e-05, momentum=0.1, affine=True, track_running_stats=True)\n",
            "      (conv3): Conv2d(128, 512, kernel_size=(1, 1), stride=(1, 1), bias=False)\n",
            "      (bn3): BatchNorm2d(512, eps=1e-05, momentum=0.1, affine=True, track_running_stats=True)\n",
            "      (relu): ReLU(inplace=True)\n",
            "    )\n",
            "    (3): Bottleneck(\n",
            "      (conv1): Conv2d(512, 128, kernel_size=(1, 1), stride=(1, 1), bias=False)\n",
            "      (bn1): BatchNorm2d(128, eps=1e-05, momentum=0.1, affine=True, track_running_stats=True)\n",
            "      (conv2): Conv2d(128, 128, kernel_size=(3, 3), stride=(1, 1), padding=(1, 1), bias=False)\n",
            "      (bn2): BatchNorm2d(128, eps=1e-05, momentum=0.1, affine=True, track_running_stats=True)\n",
            "      (conv3): Conv2d(128, 512, kernel_size=(1, 1), stride=(1, 1), bias=False)\n",
            "      (bn3): BatchNorm2d(512, eps=1e-05, momentum=0.1, affine=True, track_running_stats=True)\n",
            "      (relu): ReLU(inplace=True)\n",
            "    )\n",
            "  )\n",
            "  (layer3): Sequential(\n",
            "    (0): Bottleneck(\n",
            "      (conv1): Conv2d(512, 256, kernel_size=(1, 1), stride=(1, 1), bias=False)\n",
            "      (bn1): BatchNorm2d(256, eps=1e-05, momentum=0.1, affine=True, track_running_stats=True)\n",
            "      (conv2): Conv2d(256, 256, kernel_size=(3, 3), stride=(2, 2), padding=(1, 1), bias=False)\n",
            "      (bn2): BatchNorm2d(256, eps=1e-05, momentum=0.1, affine=True, track_running_stats=True)\n",
            "      (conv3): Conv2d(256, 1024, kernel_size=(1, 1), stride=(1, 1), bias=False)\n",
            "      (bn3): BatchNorm2d(1024, eps=1e-05, momentum=0.1, affine=True, track_running_stats=True)\n",
            "      (relu): ReLU(inplace=True)\n",
            "      (downsample): Sequential(\n",
            "        (0): Conv2d(512, 1024, kernel_size=(1, 1), stride=(2, 2), bias=False)\n",
            "        (1): BatchNorm2d(1024, eps=1e-05, momentum=0.1, affine=True, track_running_stats=True)\n",
            "      )\n",
            "    )\n",
            "    (1): Bottleneck(\n",
            "      (conv1): Conv2d(1024, 256, kernel_size=(1, 1), stride=(1, 1), bias=False)\n",
            "      (bn1): BatchNorm2d(256, eps=1e-05, momentum=0.1, affine=True, track_running_stats=True)\n",
            "      (conv2): Conv2d(256, 256, kernel_size=(3, 3), stride=(1, 1), padding=(1, 1), bias=False)\n",
            "      (bn2): BatchNorm2d(256, eps=1e-05, momentum=0.1, affine=True, track_running_stats=True)\n",
            "      (conv3): Conv2d(256, 1024, kernel_size=(1, 1), stride=(1, 1), bias=False)\n",
            "      (bn3): BatchNorm2d(1024, eps=1e-05, momentum=0.1, affine=True, track_running_stats=True)\n",
            "      (relu): ReLU(inplace=True)\n",
            "    )\n",
            "    (2): Bottleneck(\n",
            "      (conv1): Conv2d(1024, 256, kernel_size=(1, 1), stride=(1, 1), bias=False)\n",
            "      (bn1): BatchNorm2d(256, eps=1e-05, momentum=0.1, affine=True, track_running_stats=True)\n",
            "      (conv2): Conv2d(256, 256, kernel_size=(3, 3), stride=(1, 1), padding=(1, 1), bias=False)\n",
            "      (bn2): BatchNorm2d(256, eps=1e-05, momentum=0.1, affine=True, track_running_stats=True)\n",
            "      (conv3): Conv2d(256, 1024, kernel_size=(1, 1), stride=(1, 1), bias=False)\n",
            "      (bn3): BatchNorm2d(1024, eps=1e-05, momentum=0.1, affine=True, track_running_stats=True)\n",
            "      (relu): ReLU(inplace=True)\n",
            "    )\n",
            "    (3): Bottleneck(\n",
            "      (conv1): Conv2d(1024, 256, kernel_size=(1, 1), stride=(1, 1), bias=False)\n",
            "      (bn1): BatchNorm2d(256, eps=1e-05, momentum=0.1, affine=True, track_running_stats=True)\n",
            "      (conv2): Conv2d(256, 256, kernel_size=(3, 3), stride=(1, 1), padding=(1, 1), bias=False)\n",
            "      (bn2): BatchNorm2d(256, eps=1e-05, momentum=0.1, affine=True, track_running_stats=True)\n",
            "      (conv3): Conv2d(256, 1024, kernel_size=(1, 1), stride=(1, 1), bias=False)\n",
            "      (bn3): BatchNorm2d(1024, eps=1e-05, momentum=0.1, affine=True, track_running_stats=True)\n",
            "      (relu): ReLU(inplace=True)\n",
            "    )\n",
            "    (4): Bottleneck(\n",
            "      (conv1): Conv2d(1024, 256, kernel_size=(1, 1), stride=(1, 1), bias=False)\n",
            "      (bn1): BatchNorm2d(256, eps=1e-05, momentum=0.1, affine=True, track_running_stats=True)\n",
            "      (conv2): Conv2d(256, 256, kernel_size=(3, 3), stride=(1, 1), padding=(1, 1), bias=False)\n",
            "      (bn2): BatchNorm2d(256, eps=1e-05, momentum=0.1, affine=True, track_running_stats=True)\n",
            "      (conv3): Conv2d(256, 1024, kernel_size=(1, 1), stride=(1, 1), bias=False)\n",
            "      (bn3): BatchNorm2d(1024, eps=1e-05, momentum=0.1, affine=True, track_running_stats=True)\n",
            "      (relu): ReLU(inplace=True)\n",
            "    )\n",
            "    (5): Bottleneck(\n",
            "      (conv1): Conv2d(1024, 256, kernel_size=(1, 1), stride=(1, 1), bias=False)\n",
            "      (bn1): BatchNorm2d(256, eps=1e-05, momentum=0.1, affine=True, track_running_stats=True)\n",
            "      (conv2): Conv2d(256, 256, kernel_size=(3, 3), stride=(1, 1), padding=(1, 1), bias=False)\n",
            "      (bn2): BatchNorm2d(256, eps=1e-05, momentum=0.1, affine=True, track_running_stats=True)\n",
            "      (conv3): Conv2d(256, 1024, kernel_size=(1, 1), stride=(1, 1), bias=False)\n",
            "      (bn3): BatchNorm2d(1024, eps=1e-05, momentum=0.1, affine=True, track_running_stats=True)\n",
            "      (relu): ReLU(inplace=True)\n",
            "    )\n",
            "  )\n",
            "  (layer4): Sequential(\n",
            "    (0): Bottleneck(\n",
            "      (conv1): Conv2d(1024, 512, kernel_size=(1, 1), stride=(1, 1), bias=False)\n",
            "      (bn1): BatchNorm2d(512, eps=1e-05, momentum=0.1, affine=True, track_running_stats=True)\n",
            "      (conv2): Conv2d(512, 512, kernel_size=(3, 3), stride=(2, 2), padding=(1, 1), bias=False)\n",
            "      (bn2): BatchNorm2d(512, eps=1e-05, momentum=0.1, affine=True, track_running_stats=True)\n",
            "      (conv3): Conv2d(512, 2048, kernel_size=(1, 1), stride=(1, 1), bias=False)\n",
            "      (bn3): BatchNorm2d(2048, eps=1e-05, momentum=0.1, affine=True, track_running_stats=True)\n",
            "      (relu): ReLU(inplace=True)\n",
            "      (downsample): Sequential(\n",
            "        (0): Conv2d(1024, 2048, kernel_size=(1, 1), stride=(2, 2), bias=False)\n",
            "        (1): BatchNorm2d(2048, eps=1e-05, momentum=0.1, affine=True, track_running_stats=True)\n",
            "      )\n",
            "    )\n",
            "    (1): Bottleneck(\n",
            "      (conv1): Conv2d(2048, 512, kernel_size=(1, 1), stride=(1, 1), bias=False)\n",
            "      (bn1): BatchNorm2d(512, eps=1e-05, momentum=0.1, affine=True, track_running_stats=True)\n",
            "      (conv2): Conv2d(512, 512, kernel_size=(3, 3), stride=(1, 1), padding=(1, 1), bias=False)\n",
            "      (bn2): BatchNorm2d(512, eps=1e-05, momentum=0.1, affine=True, track_running_stats=True)\n",
            "      (conv3): Conv2d(512, 2048, kernel_size=(1, 1), stride=(1, 1), bias=False)\n",
            "      (bn3): BatchNorm2d(2048, eps=1e-05, momentum=0.1, affine=True, track_running_stats=True)\n",
            "      (relu): ReLU(inplace=True)\n",
            "    )\n",
            "    (2): Bottleneck(\n",
            "      (conv1): Conv2d(2048, 512, kernel_size=(1, 1), stride=(1, 1), bias=False)\n",
            "      (bn1): BatchNorm2d(512, eps=1e-05, momentum=0.1, affine=True, track_running_stats=True)\n",
            "      (conv2): Conv2d(512, 512, kernel_size=(3, 3), stride=(1, 1), padding=(1, 1), bias=False)\n",
            "      (bn2): BatchNorm2d(512, eps=1e-05, momentum=0.1, affine=True, track_running_stats=True)\n",
            "      (conv3): Conv2d(512, 2048, kernel_size=(1, 1), stride=(1, 1), bias=False)\n",
            "      (bn3): BatchNorm2d(2048, eps=1e-05, momentum=0.1, affine=True, track_running_stats=True)\n",
            "      (relu): ReLU(inplace=True)\n",
            "    )\n",
            "  )\n",
            "  (avgpool): AdaptiveAvgPool2d(output_size=(1, 1))\n",
            "  (fc): Linear(in_features=2048, out_features=10, bias=True)\n",
            ")\n"
          ]
        }
      ],
      "source": [
        "print(build_network())"
      ]
    },
    {
      "cell_type": "markdown",
      "metadata": {
        "id": "j76AmVMR-dZ0"
      },
      "source": [
        "---\n",
        "## Model 1: Training from scratch\n",
        "\n",
        "To train the ResNet50 from scratch, the weights are initialized randomly as standard training.\n",
        "\n",
        "Let's build the network **without** loading the pretrained model. To do this, we shall set `weights=None`."
      ]
    },
    {
      "cell_type": "code",
      "execution_count": 20,
      "metadata": {
        "id": "s1bzb0AF-dZ1"
      },
      "outputs": [],
      "source": [
        "# Load the an empty model (without pretrained weights)\n",
        "net1 = build_network(weights=None)"
      ]
    },
    {
      "cell_type": "markdown",
      "metadata": {
        "id": "ke4oRDBD-dZ4"
      },
      "source": [
        "Train the model and save the training loss history into `history1`."
      ]
    },
    {
      "cell_type": "code",
      "execution_count": 21,
      "metadata": {
        "id": "ozXEDbIU-dZ6",
        "outputId": "956ff260-bf1f-485f-f818-365b7f840845",
        "colab": {
          "base_uri": "https://localhost:8080/"
        }
      },
      "outputs": [
        {
          "output_type": "stream",
          "name": "stdout",
          "text": [
            "[Epoch  1/30 Iter    32/32]: train_loss = 4.0904\n",
            "[Epoch  2/30 Iter    32/32]: train_loss = 2.8636\n",
            "[Epoch  3/30 Iter    32/32]: train_loss = 2.5567\n",
            "[Epoch  4/30 Iter    32/32]: train_loss = 2.3508\n",
            "[Epoch  5/30 Iter    32/32]: train_loss = 2.2909\n",
            "[Epoch  6/30 Iter    32/32]: train_loss = 2.0776\n",
            "[Epoch  7/30 Iter    32/32]: train_loss = 2.0285\n",
            "[Epoch  8/30 Iter    32/32]: train_loss = 2.0023\n",
            "[Epoch  9/30 Iter    32/32]: train_loss = 1.9648\n",
            "[Epoch 10/30 Iter    32/32]: train_loss = 1.8828\n",
            "[Epoch 11/30 Iter    32/32]: train_loss = 1.8560\n",
            "[Epoch 12/30 Iter    32/32]: train_loss = 1.8321\n",
            "[Epoch 13/30 Iter    32/32]: train_loss = 1.8239\n",
            "[Epoch 14/30 Iter    32/32]: train_loss = 1.7725\n",
            "[Epoch 15/30 Iter    32/32]: train_loss = 1.9025\n",
            "[Epoch 16/30 Iter    32/32]: train_loss = 1.7298\n",
            "[Epoch 17/30 Iter    32/32]: train_loss = 1.7412\n",
            "[Epoch 18/30 Iter    32/32]: train_loss = 1.7106\n",
            "[Epoch 19/30 Iter    32/32]: train_loss = 1.6115\n",
            "[Epoch 20/30 Iter    32/32]: train_loss = 1.6704\n",
            "[Epoch 21/30 Iter    32/32]: train_loss = 1.6019\n",
            "[Epoch 22/30 Iter    32/32]: train_loss = 1.5166\n",
            "[Epoch 23/30 Iter    32/32]: train_loss = 1.5607\n",
            "[Epoch 24/30 Iter    32/32]: train_loss = 1.5409\n",
            "[Epoch 25/30 Iter    32/32]: train_loss = 1.5374\n",
            "[Epoch 26/30 Iter    32/32]: train_loss = 1.4748\n",
            "[Epoch 27/30 Iter    32/32]: train_loss = 1.4746\n",
            "[Epoch 28/30 Iter    32/32]: train_loss = 1.4240\n",
            "[Epoch 29/30 Iter    32/32]: train_loss = 1.3872\n",
            "[Epoch 30/30 Iter    32/32]: train_loss = 1.3952\n"
          ]
        }
      ],
      "source": [
        "history1 = train(net1, num_epochs=30, lr=0.01, momentum=0.8)"
      ]
    },
    {
      "cell_type": "markdown",
      "metadata": {
        "id": "hYgMvo78-daA"
      },
      "source": [
        "Evaluate the model"
      ]
    },
    {
      "cell_type": "code",
      "execution_count": 22,
      "metadata": {
        "id": "BZUzQ3LO-daB",
        "outputId": "feb9d3b3-5a8b-426d-f23c-081de5c4c2bf",
        "colab": {
          "base_uri": "https://localhost:8080/"
        }
      },
      "outputs": [
        {
          "output_type": "stream",
          "name": "stdout",
          "text": [
            "Accuracy = 33.20%\n"
          ]
        }
      ],
      "source": [
        "evaluate(net1)"
      ]
    },
    {
      "cell_type": "markdown",
      "metadata": {
        "id": "VoCFbpik-daG"
      },
      "source": [
        "---\n",
        "## Model 2: Finetuning the entire model\n",
        "\n",
        "To finetune the ResNet50,we will initialize the network with the pretrained weights.\n",
        "\n",
        "Let's load ResNet50 with the pretrained weights and use it to initialize the network.  To do this, we set `weights='IMAGENET1K_V2'`.\n",
        "\n",
        "**Noted:**\n",
        "\n",
        "The training will update ALL the parameters in every layers of the network.\n",
        "\n",
        "**For Windows system:** (local GPU)\n",
        "\n",
        "The pretrained model will be saved to the following directory: `C:\\Users\\<user name>\\.cache\\torch\\checkpoints`. A PyTorch model has an extension of `.pt` or `.pth`."
      ]
    },
    {
      "cell_type": "code",
      "execution_count": 23,
      "metadata": {
        "id": "L4OgAOih-daH"
      },
      "outputs": [],
      "source": [
        "# Load the pretrained model\n",
        "net2 = build_network(weights='IMAGENET1K_V2')"
      ]
    },
    {
      "cell_type": "markdown",
      "metadata": {
        "id": "3fZn_3_X-dac"
      },
      "source": [
        "By default, all the layers are set to `requires_grad=True`"
      ]
    },
    {
      "cell_type": "code",
      "execution_count": 24,
      "metadata": {
        "id": "Z57XPXtt-dad",
        "outputId": "f1d3a53f-7e98-4081-d6f3-db230dae4664",
        "colab": {
          "base_uri": "https://localhost:8080/"
        }
      },
      "outputs": [
        {
          "output_type": "stream",
          "name": "stdout",
          "text": [
            "conv1.weight : True\n",
            "bn1.weight : True\n",
            "bn1.bias : True\n",
            "layer1.0.conv1.weight : True\n",
            "layer1.0.bn1.weight : True\n",
            "layer1.0.bn1.bias : True\n",
            "layer1.0.conv2.weight : True\n",
            "layer1.0.bn2.weight : True\n",
            "layer1.0.bn2.bias : True\n",
            "layer1.0.conv3.weight : True\n",
            "layer1.0.bn3.weight : True\n",
            "layer1.0.bn3.bias : True\n",
            "layer1.0.downsample.0.weight : True\n",
            "layer1.0.downsample.1.weight : True\n",
            "layer1.0.downsample.1.bias : True\n",
            "layer1.1.conv1.weight : True\n",
            "layer1.1.bn1.weight : True\n",
            "layer1.1.bn1.bias : True\n",
            "layer1.1.conv2.weight : True\n",
            "layer1.1.bn2.weight : True\n",
            "layer1.1.bn2.bias : True\n",
            "layer1.1.conv3.weight : True\n",
            "layer1.1.bn3.weight : True\n",
            "layer1.1.bn3.bias : True\n",
            "layer1.2.conv1.weight : True\n",
            "layer1.2.bn1.weight : True\n",
            "layer1.2.bn1.bias : True\n",
            "layer1.2.conv2.weight : True\n",
            "layer1.2.bn2.weight : True\n",
            "layer1.2.bn2.bias : True\n",
            "layer1.2.conv3.weight : True\n",
            "layer1.2.bn3.weight : True\n",
            "layer1.2.bn3.bias : True\n",
            "layer2.0.conv1.weight : True\n",
            "layer2.0.bn1.weight : True\n",
            "layer2.0.bn1.bias : True\n",
            "layer2.0.conv2.weight : True\n",
            "layer2.0.bn2.weight : True\n",
            "layer2.0.bn2.bias : True\n",
            "layer2.0.conv3.weight : True\n",
            "layer2.0.bn3.weight : True\n",
            "layer2.0.bn3.bias : True\n",
            "layer2.0.downsample.0.weight : True\n",
            "layer2.0.downsample.1.weight : True\n",
            "layer2.0.downsample.1.bias : True\n",
            "layer2.1.conv1.weight : True\n",
            "layer2.1.bn1.weight : True\n",
            "layer2.1.bn1.bias : True\n",
            "layer2.1.conv2.weight : True\n",
            "layer2.1.bn2.weight : True\n",
            "layer2.1.bn2.bias : True\n",
            "layer2.1.conv3.weight : True\n",
            "layer2.1.bn3.weight : True\n",
            "layer2.1.bn3.bias : True\n",
            "layer2.2.conv1.weight : True\n",
            "layer2.2.bn1.weight : True\n",
            "layer2.2.bn1.bias : True\n",
            "layer2.2.conv2.weight : True\n",
            "layer2.2.bn2.weight : True\n",
            "layer2.2.bn2.bias : True\n",
            "layer2.2.conv3.weight : True\n",
            "layer2.2.bn3.weight : True\n",
            "layer2.2.bn3.bias : True\n",
            "layer2.3.conv1.weight : True\n",
            "layer2.3.bn1.weight : True\n",
            "layer2.3.bn1.bias : True\n",
            "layer2.3.conv2.weight : True\n",
            "layer2.3.bn2.weight : True\n",
            "layer2.3.bn2.bias : True\n",
            "layer2.3.conv3.weight : True\n",
            "layer2.3.bn3.weight : True\n",
            "layer2.3.bn3.bias : True\n",
            "layer3.0.conv1.weight : True\n",
            "layer3.0.bn1.weight : True\n",
            "layer3.0.bn1.bias : True\n",
            "layer3.0.conv2.weight : True\n",
            "layer3.0.bn2.weight : True\n",
            "layer3.0.bn2.bias : True\n",
            "layer3.0.conv3.weight : True\n",
            "layer3.0.bn3.weight : True\n",
            "layer3.0.bn3.bias : True\n",
            "layer3.0.downsample.0.weight : True\n",
            "layer3.0.downsample.1.weight : True\n",
            "layer3.0.downsample.1.bias : True\n",
            "layer3.1.conv1.weight : True\n",
            "layer3.1.bn1.weight : True\n",
            "layer3.1.bn1.bias : True\n",
            "layer3.1.conv2.weight : True\n",
            "layer3.1.bn2.weight : True\n",
            "layer3.1.bn2.bias : True\n",
            "layer3.1.conv3.weight : True\n",
            "layer3.1.bn3.weight : True\n",
            "layer3.1.bn3.bias : True\n",
            "layer3.2.conv1.weight : True\n",
            "layer3.2.bn1.weight : True\n",
            "layer3.2.bn1.bias : True\n",
            "layer3.2.conv2.weight : True\n",
            "layer3.2.bn2.weight : True\n",
            "layer3.2.bn2.bias : True\n",
            "layer3.2.conv3.weight : True\n",
            "layer3.2.bn3.weight : True\n",
            "layer3.2.bn3.bias : True\n",
            "layer3.3.conv1.weight : True\n",
            "layer3.3.bn1.weight : True\n",
            "layer3.3.bn1.bias : True\n",
            "layer3.3.conv2.weight : True\n",
            "layer3.3.bn2.weight : True\n",
            "layer3.3.bn2.bias : True\n",
            "layer3.3.conv3.weight : True\n",
            "layer3.3.bn3.weight : True\n",
            "layer3.3.bn3.bias : True\n",
            "layer3.4.conv1.weight : True\n",
            "layer3.4.bn1.weight : True\n",
            "layer3.4.bn1.bias : True\n",
            "layer3.4.conv2.weight : True\n",
            "layer3.4.bn2.weight : True\n",
            "layer3.4.bn2.bias : True\n",
            "layer3.4.conv3.weight : True\n",
            "layer3.4.bn3.weight : True\n",
            "layer3.4.bn3.bias : True\n",
            "layer3.5.conv1.weight : True\n",
            "layer3.5.bn1.weight : True\n",
            "layer3.5.bn1.bias : True\n",
            "layer3.5.conv2.weight : True\n",
            "layer3.5.bn2.weight : True\n",
            "layer3.5.bn2.bias : True\n",
            "layer3.5.conv3.weight : True\n",
            "layer3.5.bn3.weight : True\n",
            "layer3.5.bn3.bias : True\n",
            "layer4.0.conv1.weight : True\n",
            "layer4.0.bn1.weight : True\n",
            "layer4.0.bn1.bias : True\n",
            "layer4.0.conv2.weight : True\n",
            "layer4.0.bn2.weight : True\n",
            "layer4.0.bn2.bias : True\n",
            "layer4.0.conv3.weight : True\n",
            "layer4.0.bn3.weight : True\n",
            "layer4.0.bn3.bias : True\n",
            "layer4.0.downsample.0.weight : True\n",
            "layer4.0.downsample.1.weight : True\n",
            "layer4.0.downsample.1.bias : True\n",
            "layer4.1.conv1.weight : True\n",
            "layer4.1.bn1.weight : True\n",
            "layer4.1.bn1.bias : True\n",
            "layer4.1.conv2.weight : True\n",
            "layer4.1.bn2.weight : True\n",
            "layer4.1.bn2.bias : True\n",
            "layer4.1.conv3.weight : True\n",
            "layer4.1.bn3.weight : True\n",
            "layer4.1.bn3.bias : True\n",
            "layer4.2.conv1.weight : True\n",
            "layer4.2.bn1.weight : True\n",
            "layer4.2.bn1.bias : True\n",
            "layer4.2.conv2.weight : True\n",
            "layer4.2.bn2.weight : True\n",
            "layer4.2.bn2.bias : True\n",
            "layer4.2.conv3.weight : True\n",
            "layer4.2.bn3.weight : True\n",
            "layer4.2.bn3.bias : True\n",
            "fc.weight : True\n",
            "fc.bias : True\n"
          ]
        }
      ],
      "source": [
        "# display the requires_grad for all layers\n",
        "for name, param in net2.named_parameters():\n",
        "       print(name, ':', param.requires_grad)"
      ]
    },
    {
      "cell_type": "markdown",
      "metadata": {
        "id": "2WCRuqTd-daM"
      },
      "source": [
        "Train the model and save into `history2`."
      ]
    },
    {
      "cell_type": "code",
      "execution_count": 25,
      "metadata": {
        "id": "MxNWP06d-daN",
        "outputId": "99d1a262-0fd0-4831-e428-1f19da84fff0",
        "colab": {
          "base_uri": "https://localhost:8080/"
        }
      },
      "outputs": [
        {
          "output_type": "stream",
          "name": "stdout",
          "text": [
            "[Epoch  1/30 Iter    32/32]: train_loss = 2.0154\n",
            "[Epoch  2/30 Iter    32/32]: train_loss = 1.0903\n",
            "[Epoch  3/30 Iter    32/32]: train_loss = 0.6149\n",
            "[Epoch  4/30 Iter    32/32]: train_loss = 0.4009\n",
            "[Epoch  5/30 Iter    32/32]: train_loss = 0.2087\n",
            "[Epoch  6/30 Iter    32/32]: train_loss = 0.1762\n",
            "[Epoch  7/30 Iter    32/32]: train_loss = 0.1160\n",
            "[Epoch  8/30 Iter    32/32]: train_loss = 0.1356\n",
            "[Epoch  9/30 Iter    32/32]: train_loss = 0.1048\n",
            "[Epoch 10/30 Iter    32/32]: train_loss = 0.0570\n",
            "[Epoch 11/30 Iter    32/32]: train_loss = 0.0592\n",
            "[Epoch 12/30 Iter    32/32]: train_loss = 0.0606\n",
            "[Epoch 13/30 Iter    32/32]: train_loss = 0.0585\n",
            "[Epoch 14/30 Iter    32/32]: train_loss = 0.0522\n",
            "[Epoch 15/30 Iter    32/32]: train_loss = 0.0351\n",
            "[Epoch 16/30 Iter    32/32]: train_loss = 0.0374\n",
            "[Epoch 17/30 Iter    32/32]: train_loss = 0.0512\n",
            "[Epoch 18/30 Iter    32/32]: train_loss = 0.0302\n",
            "[Epoch 19/30 Iter    32/32]: train_loss = 0.0278\n",
            "[Epoch 20/30 Iter    32/32]: train_loss = 0.0224\n",
            "[Epoch 21/30 Iter    32/32]: train_loss = 0.0393\n",
            "[Epoch 22/30 Iter    32/32]: train_loss = 0.0138\n",
            "[Epoch 23/30 Iter    32/32]: train_loss = 0.0219\n",
            "[Epoch 24/30 Iter    32/32]: train_loss = 0.0227\n",
            "[Epoch 25/30 Iter    32/32]: train_loss = 0.0127\n",
            "[Epoch 26/30 Iter    32/32]: train_loss = 0.0473\n",
            "[Epoch 27/30 Iter    32/32]: train_loss = 0.1008\n",
            "[Epoch 28/30 Iter    32/32]: train_loss = 0.0488\n",
            "[Epoch 29/30 Iter    32/32]: train_loss = 0.0353\n",
            "[Epoch 30/30 Iter    32/32]: train_loss = 0.0395\n"
          ]
        }
      ],
      "source": [
        "history2 = train(net2, num_epochs=30, lr=0.01, momentum=0.8)"
      ]
    },
    {
      "cell_type": "markdown",
      "metadata": {
        "id": "WZN6nYHR-daQ"
      },
      "source": [
        "Evaluate the network"
      ]
    },
    {
      "cell_type": "code",
      "execution_count": 26,
      "metadata": {
        "id": "qjkHZEfx-daR",
        "outputId": "e04b2278-7429-4fc7-9da6-17c0fa2868e0",
        "colab": {
          "base_uri": "https://localhost:8080/"
        }
      },
      "outputs": [
        {
          "output_type": "stream",
          "name": "stdout",
          "text": [
            "Accuracy = 83.00%\n"
          ]
        }
      ],
      "source": [
        "evaluate(net2)"
      ]
    },
    {
      "cell_type": "markdown",
      "metadata": {
        "id": "bNU2oW6n-daV"
      },
      "source": [
        "---\n",
        "## Model 3: Finetuning the fc layers (fixed feature extractor)\n",
        "\n",
        "When the dataset is too small, fine-tuning the model may still incur overfitting.\n",
        "\n",
        "In this case, you may want to try to use the pretrained network as a fixed feature extractor where we train only the  classifier (fc layer)"
      ]
    },
    {
      "cell_type": "code",
      "execution_count": 27,
      "metadata": {
        "id": "4E9-Smri-daX"
      },
      "outputs": [],
      "source": [
        "# Load the pretrained model\n",
        "net3 = build_network(weights='IMAGENET1K_V2')"
      ]
    },
    {
      "cell_type": "markdown",
      "metadata": {
        "id": "pGZpQHKM-dag"
      },
      "source": [
        "To freeze the feature extractor, we have to set `requires_grad=False` for all parameters in  `resnet.parameters()` except for the new  `fc` layer"
      ]
    },
    {
      "cell_type": "code",
      "execution_count": 28,
      "metadata": {
        "id": "5-9dSPUW-dag"
      },
      "outputs": [],
      "source": [
        "# set requires grad to FALSE for all parameters except the fc layer\n",
        "parameters = list(net3.parameters())\n",
        "for param in parameters[:-2]:\n",
        "       param.requires_grad = False"
      ]
    },
    {
      "cell_type": "code",
      "execution_count": 29,
      "metadata": {
        "id": "rdA2balW-daj",
        "outputId": "80f6f550-794f-4780-be5a-e98b7f3af59a",
        "colab": {
          "base_uri": "https://localhost:8080/"
        }
      },
      "outputs": [
        {
          "output_type": "stream",
          "name": "stdout",
          "text": [
            "conv1.weight : False\n",
            "bn1.weight : False\n",
            "bn1.bias : False\n",
            "layer1.0.conv1.weight : False\n",
            "layer1.0.bn1.weight : False\n",
            "layer1.0.bn1.bias : False\n",
            "layer1.0.conv2.weight : False\n",
            "layer1.0.bn2.weight : False\n",
            "layer1.0.bn2.bias : False\n",
            "layer1.0.conv3.weight : False\n",
            "layer1.0.bn3.weight : False\n",
            "layer1.0.bn3.bias : False\n",
            "layer1.0.downsample.0.weight : False\n",
            "layer1.0.downsample.1.weight : False\n",
            "layer1.0.downsample.1.bias : False\n",
            "layer1.1.conv1.weight : False\n",
            "layer1.1.bn1.weight : False\n",
            "layer1.1.bn1.bias : False\n",
            "layer1.1.conv2.weight : False\n",
            "layer1.1.bn2.weight : False\n",
            "layer1.1.bn2.bias : False\n",
            "layer1.1.conv3.weight : False\n",
            "layer1.1.bn3.weight : False\n",
            "layer1.1.bn3.bias : False\n",
            "layer1.2.conv1.weight : False\n",
            "layer1.2.bn1.weight : False\n",
            "layer1.2.bn1.bias : False\n",
            "layer1.2.conv2.weight : False\n",
            "layer1.2.bn2.weight : False\n",
            "layer1.2.bn2.bias : False\n",
            "layer1.2.conv3.weight : False\n",
            "layer1.2.bn3.weight : False\n",
            "layer1.2.bn3.bias : False\n",
            "layer2.0.conv1.weight : False\n",
            "layer2.0.bn1.weight : False\n",
            "layer2.0.bn1.bias : False\n",
            "layer2.0.conv2.weight : False\n",
            "layer2.0.bn2.weight : False\n",
            "layer2.0.bn2.bias : False\n",
            "layer2.0.conv3.weight : False\n",
            "layer2.0.bn3.weight : False\n",
            "layer2.0.bn3.bias : False\n",
            "layer2.0.downsample.0.weight : False\n",
            "layer2.0.downsample.1.weight : False\n",
            "layer2.0.downsample.1.bias : False\n",
            "layer2.1.conv1.weight : False\n",
            "layer2.1.bn1.weight : False\n",
            "layer2.1.bn1.bias : False\n",
            "layer2.1.conv2.weight : False\n",
            "layer2.1.bn2.weight : False\n",
            "layer2.1.bn2.bias : False\n",
            "layer2.1.conv3.weight : False\n",
            "layer2.1.bn3.weight : False\n",
            "layer2.1.bn3.bias : False\n",
            "layer2.2.conv1.weight : False\n",
            "layer2.2.bn1.weight : False\n",
            "layer2.2.bn1.bias : False\n",
            "layer2.2.conv2.weight : False\n",
            "layer2.2.bn2.weight : False\n",
            "layer2.2.bn2.bias : False\n",
            "layer2.2.conv3.weight : False\n",
            "layer2.2.bn3.weight : False\n",
            "layer2.2.bn3.bias : False\n",
            "layer2.3.conv1.weight : False\n",
            "layer2.3.bn1.weight : False\n",
            "layer2.3.bn1.bias : False\n",
            "layer2.3.conv2.weight : False\n",
            "layer2.3.bn2.weight : False\n",
            "layer2.3.bn2.bias : False\n",
            "layer2.3.conv3.weight : False\n",
            "layer2.3.bn3.weight : False\n",
            "layer2.3.bn3.bias : False\n",
            "layer3.0.conv1.weight : False\n",
            "layer3.0.bn1.weight : False\n",
            "layer3.0.bn1.bias : False\n",
            "layer3.0.conv2.weight : False\n",
            "layer3.0.bn2.weight : False\n",
            "layer3.0.bn2.bias : False\n",
            "layer3.0.conv3.weight : False\n",
            "layer3.0.bn3.weight : False\n",
            "layer3.0.bn3.bias : False\n",
            "layer3.0.downsample.0.weight : False\n",
            "layer3.0.downsample.1.weight : False\n",
            "layer3.0.downsample.1.bias : False\n",
            "layer3.1.conv1.weight : False\n",
            "layer3.1.bn1.weight : False\n",
            "layer3.1.bn1.bias : False\n",
            "layer3.1.conv2.weight : False\n",
            "layer3.1.bn2.weight : False\n",
            "layer3.1.bn2.bias : False\n",
            "layer3.1.conv3.weight : False\n",
            "layer3.1.bn3.weight : False\n",
            "layer3.1.bn3.bias : False\n",
            "layer3.2.conv1.weight : False\n",
            "layer3.2.bn1.weight : False\n",
            "layer3.2.bn1.bias : False\n",
            "layer3.2.conv2.weight : False\n",
            "layer3.2.bn2.weight : False\n",
            "layer3.2.bn2.bias : False\n",
            "layer3.2.conv3.weight : False\n",
            "layer3.2.bn3.weight : False\n",
            "layer3.2.bn3.bias : False\n",
            "layer3.3.conv1.weight : False\n",
            "layer3.3.bn1.weight : False\n",
            "layer3.3.bn1.bias : False\n",
            "layer3.3.conv2.weight : False\n",
            "layer3.3.bn2.weight : False\n",
            "layer3.3.bn2.bias : False\n",
            "layer3.3.conv3.weight : False\n",
            "layer3.3.bn3.weight : False\n",
            "layer3.3.bn3.bias : False\n",
            "layer3.4.conv1.weight : False\n",
            "layer3.4.bn1.weight : False\n",
            "layer3.4.bn1.bias : False\n",
            "layer3.4.conv2.weight : False\n",
            "layer3.4.bn2.weight : False\n",
            "layer3.4.bn2.bias : False\n",
            "layer3.4.conv3.weight : False\n",
            "layer3.4.bn3.weight : False\n",
            "layer3.4.bn3.bias : False\n",
            "layer3.5.conv1.weight : False\n",
            "layer3.5.bn1.weight : False\n",
            "layer3.5.bn1.bias : False\n",
            "layer3.5.conv2.weight : False\n",
            "layer3.5.bn2.weight : False\n",
            "layer3.5.bn2.bias : False\n",
            "layer3.5.conv3.weight : False\n",
            "layer3.5.bn3.weight : False\n",
            "layer3.5.bn3.bias : False\n",
            "layer4.0.conv1.weight : False\n",
            "layer4.0.bn1.weight : False\n",
            "layer4.0.bn1.bias : False\n",
            "layer4.0.conv2.weight : False\n",
            "layer4.0.bn2.weight : False\n",
            "layer4.0.bn2.bias : False\n",
            "layer4.0.conv3.weight : False\n",
            "layer4.0.bn3.weight : False\n",
            "layer4.0.bn3.bias : False\n",
            "layer4.0.downsample.0.weight : False\n",
            "layer4.0.downsample.1.weight : False\n",
            "layer4.0.downsample.1.bias : False\n",
            "layer4.1.conv1.weight : False\n",
            "layer4.1.bn1.weight : False\n",
            "layer4.1.bn1.bias : False\n",
            "layer4.1.conv2.weight : False\n",
            "layer4.1.bn2.weight : False\n",
            "layer4.1.bn2.bias : False\n",
            "layer4.1.conv3.weight : False\n",
            "layer4.1.bn3.weight : False\n",
            "layer4.1.bn3.bias : False\n",
            "layer4.2.conv1.weight : False\n",
            "layer4.2.bn1.weight : False\n",
            "layer4.2.bn1.bias : False\n",
            "layer4.2.conv2.weight : False\n",
            "layer4.2.bn2.weight : False\n",
            "layer4.2.bn2.bias : False\n",
            "layer4.2.conv3.weight : False\n",
            "layer4.2.bn3.weight : False\n",
            "layer4.2.bn3.bias : False\n",
            "fc.weight : True\n",
            "fc.bias : True\n"
          ]
        }
      ],
      "source": [
        "# display the requires_grad for all layers to confirm that the gradients have been set correctly\n",
        "for name, param in net3.named_parameters():\n",
        "        print(name, ':', param.requires_grad)"
      ]
    },
    {
      "cell_type": "markdown",
      "metadata": {
        "id": "X5tAEgqj-dam"
      },
      "source": [
        "Train the model and save into `history3`."
      ]
    },
    {
      "cell_type": "code",
      "execution_count": 30,
      "metadata": {
        "id": "upS5DzLI-dao",
        "outputId": "b854c8d4-f261-4376-80fc-24e8978a1d8e",
        "colab": {
          "base_uri": "https://localhost:8080/"
        }
      },
      "outputs": [
        {
          "output_type": "stream",
          "name": "stdout",
          "text": [
            "[Epoch  1/30 Iter    32/32]: train_loss = 2.0597\n",
            "[Epoch  2/30 Iter    32/32]: train_loss = 1.5939\n",
            "[Epoch  3/30 Iter    32/32]: train_loss = 1.3564\n",
            "[Epoch  4/30 Iter    32/32]: train_loss = 1.2485\n",
            "[Epoch  5/30 Iter    32/32]: train_loss = 1.1775\n",
            "[Epoch  6/30 Iter    32/32]: train_loss = 1.0834\n",
            "[Epoch  7/30 Iter    32/32]: train_loss = 1.0292\n",
            "[Epoch  8/30 Iter    32/32]: train_loss = 0.9773\n",
            "[Epoch  9/30 Iter    32/32]: train_loss = 0.9618\n",
            "[Epoch 10/30 Iter    32/32]: train_loss = 0.9113\n",
            "[Epoch 11/30 Iter    32/32]: train_loss = 0.8969\n",
            "[Epoch 12/30 Iter    32/32]: train_loss = 0.8716\n",
            "[Epoch 13/30 Iter    32/32]: train_loss = 0.8521\n",
            "[Epoch 14/30 Iter    32/32]: train_loss = 0.8350\n",
            "[Epoch 15/30 Iter    32/32]: train_loss = 0.8326\n",
            "[Epoch 16/30 Iter    32/32]: train_loss = 0.8062\n",
            "[Epoch 17/30 Iter    32/32]: train_loss = 0.7812\n",
            "[Epoch 18/30 Iter    32/32]: train_loss = 0.7922\n",
            "[Epoch 19/30 Iter    32/32]: train_loss = 0.7602\n",
            "[Epoch 20/30 Iter    32/32]: train_loss = 0.7527\n",
            "[Epoch 21/30 Iter    32/32]: train_loss = 0.7454\n",
            "[Epoch 22/30 Iter    32/32]: train_loss = 0.7271\n",
            "[Epoch 23/30 Iter    32/32]: train_loss = 0.7277\n",
            "[Epoch 24/30 Iter    32/32]: train_loss = 0.7016\n",
            "[Epoch 25/30 Iter    32/32]: train_loss = 0.6824\n",
            "[Epoch 26/30 Iter    32/32]: train_loss = 0.6938\n",
            "[Epoch 27/30 Iter    32/32]: train_loss = 0.6736\n",
            "[Epoch 28/30 Iter    32/32]: train_loss = 0.6469\n",
            "[Epoch 29/30 Iter    32/32]: train_loss = 0.6522\n",
            "[Epoch 30/30 Iter    32/32]: train_loss = 0.6761\n"
          ]
        }
      ],
      "source": [
        "history3 = train(net3, num_epochs=30, lr=0.01, momentum=0.8)"
      ]
    },
    {
      "cell_type": "markdown",
      "metadata": {
        "id": "GHbWS81I-dav"
      },
      "source": [
        "Evaluate the model"
      ]
    },
    {
      "cell_type": "code",
      "execution_count": 31,
      "metadata": {
        "id": "wEd3pB8J-day",
        "outputId": "d948d278-30f8-4355-c87e-70a9becc4d24",
        "colab": {
          "base_uri": "https://localhost:8080/"
        }
      },
      "outputs": [
        {
          "output_type": "stream",
          "name": "stdout",
          "text": [
            "Accuracy = 70.00%\n"
          ]
        }
      ],
      "source": [
        "evaluate(net3)"
      ]
    },
    {
      "cell_type": "markdown",
      "metadata": {
        "id": "PjwhSdAa-da1"
      },
      "source": [
        "---\n",
        "## Model 4: Finetune the top (last few) layers\n",
        "\n",
        "Sometime, you may want to finetune the feature extractor for higher-level features.\n",
        "\n",
        "To do this, we can tune the top few layers of the network (layers in the block `layer 4` and `fc` layer)\n"
      ]
    },
    {
      "cell_type": "code",
      "execution_count": 32,
      "metadata": {
        "id": "K9pDdnsf-da2"
      },
      "outputs": [],
      "source": [
        "# Load the pretrained model\n",
        "net4 = build_network(weights='IMAGENET1K_V2')"
      ]
    },
    {
      "cell_type": "markdown",
      "metadata": {
        "id": "nejPZBc1-da5"
      },
      "source": [
        "Then, we freeze all tha layers except for `layer4` and `fc` layers"
      ]
    },
    {
      "cell_type": "code",
      "execution_count": 33,
      "metadata": {
        "id": "VfolcT6O-da6"
      },
      "outputs": [],
      "source": [
        "for name, param in net4.named_parameters():\n",
        "       if not any(name.startswith(ext) for ext in ['layer4', 'fc']):\n",
        "           param.requires_grad = False"
      ]
    },
    {
      "cell_type": "code",
      "execution_count": 34,
      "metadata": {
        "id": "-CNGLTmQ-dbB",
        "outputId": "3376305b-e4a2-499c-be25-d71168157f29",
        "colab": {
          "base_uri": "https://localhost:8080/"
        }
      },
      "outputs": [
        {
          "output_type": "stream",
          "name": "stdout",
          "text": [
            "conv1.weight : False\n",
            "bn1.weight : False\n",
            "bn1.bias : False\n",
            "layer1.0.conv1.weight : False\n",
            "layer1.0.bn1.weight : False\n",
            "layer1.0.bn1.bias : False\n",
            "layer1.0.conv2.weight : False\n",
            "layer1.0.bn2.weight : False\n",
            "layer1.0.bn2.bias : False\n",
            "layer1.0.conv3.weight : False\n",
            "layer1.0.bn3.weight : False\n",
            "layer1.0.bn3.bias : False\n",
            "layer1.0.downsample.0.weight : False\n",
            "layer1.0.downsample.1.weight : False\n",
            "layer1.0.downsample.1.bias : False\n",
            "layer1.1.conv1.weight : False\n",
            "layer1.1.bn1.weight : False\n",
            "layer1.1.bn1.bias : False\n",
            "layer1.1.conv2.weight : False\n",
            "layer1.1.bn2.weight : False\n",
            "layer1.1.bn2.bias : False\n",
            "layer1.1.conv3.weight : False\n",
            "layer1.1.bn3.weight : False\n",
            "layer1.1.bn3.bias : False\n",
            "layer1.2.conv1.weight : False\n",
            "layer1.2.bn1.weight : False\n",
            "layer1.2.bn1.bias : False\n",
            "layer1.2.conv2.weight : False\n",
            "layer1.2.bn2.weight : False\n",
            "layer1.2.bn2.bias : False\n",
            "layer1.2.conv3.weight : False\n",
            "layer1.2.bn3.weight : False\n",
            "layer1.2.bn3.bias : False\n",
            "layer2.0.conv1.weight : False\n",
            "layer2.0.bn1.weight : False\n",
            "layer2.0.bn1.bias : False\n",
            "layer2.0.conv2.weight : False\n",
            "layer2.0.bn2.weight : False\n",
            "layer2.0.bn2.bias : False\n",
            "layer2.0.conv3.weight : False\n",
            "layer2.0.bn3.weight : False\n",
            "layer2.0.bn3.bias : False\n",
            "layer2.0.downsample.0.weight : False\n",
            "layer2.0.downsample.1.weight : False\n",
            "layer2.0.downsample.1.bias : False\n",
            "layer2.1.conv1.weight : False\n",
            "layer2.1.bn1.weight : False\n",
            "layer2.1.bn1.bias : False\n",
            "layer2.1.conv2.weight : False\n",
            "layer2.1.bn2.weight : False\n",
            "layer2.1.bn2.bias : False\n",
            "layer2.1.conv3.weight : False\n",
            "layer2.1.bn3.weight : False\n",
            "layer2.1.bn3.bias : False\n",
            "layer2.2.conv1.weight : False\n",
            "layer2.2.bn1.weight : False\n",
            "layer2.2.bn1.bias : False\n",
            "layer2.2.conv2.weight : False\n",
            "layer2.2.bn2.weight : False\n",
            "layer2.2.bn2.bias : False\n",
            "layer2.2.conv3.weight : False\n",
            "layer2.2.bn3.weight : False\n",
            "layer2.2.bn3.bias : False\n",
            "layer2.3.conv1.weight : False\n",
            "layer2.3.bn1.weight : False\n",
            "layer2.3.bn1.bias : False\n",
            "layer2.3.conv2.weight : False\n",
            "layer2.3.bn2.weight : False\n",
            "layer2.3.bn2.bias : False\n",
            "layer2.3.conv3.weight : False\n",
            "layer2.3.bn3.weight : False\n",
            "layer2.3.bn3.bias : False\n",
            "layer3.0.conv1.weight : False\n",
            "layer3.0.bn1.weight : False\n",
            "layer3.0.bn1.bias : False\n",
            "layer3.0.conv2.weight : False\n",
            "layer3.0.bn2.weight : False\n",
            "layer3.0.bn2.bias : False\n",
            "layer3.0.conv3.weight : False\n",
            "layer3.0.bn3.weight : False\n",
            "layer3.0.bn3.bias : False\n",
            "layer3.0.downsample.0.weight : False\n",
            "layer3.0.downsample.1.weight : False\n",
            "layer3.0.downsample.1.bias : False\n",
            "layer3.1.conv1.weight : False\n",
            "layer3.1.bn1.weight : False\n",
            "layer3.1.bn1.bias : False\n",
            "layer3.1.conv2.weight : False\n",
            "layer3.1.bn2.weight : False\n",
            "layer3.1.bn2.bias : False\n",
            "layer3.1.conv3.weight : False\n",
            "layer3.1.bn3.weight : False\n",
            "layer3.1.bn3.bias : False\n",
            "layer3.2.conv1.weight : False\n",
            "layer3.2.bn1.weight : False\n",
            "layer3.2.bn1.bias : False\n",
            "layer3.2.conv2.weight : False\n",
            "layer3.2.bn2.weight : False\n",
            "layer3.2.bn2.bias : False\n",
            "layer3.2.conv3.weight : False\n",
            "layer3.2.bn3.weight : False\n",
            "layer3.2.bn3.bias : False\n",
            "layer3.3.conv1.weight : False\n",
            "layer3.3.bn1.weight : False\n",
            "layer3.3.bn1.bias : False\n",
            "layer3.3.conv2.weight : False\n",
            "layer3.3.bn2.weight : False\n",
            "layer3.3.bn2.bias : False\n",
            "layer3.3.conv3.weight : False\n",
            "layer3.3.bn3.weight : False\n",
            "layer3.3.bn3.bias : False\n",
            "layer3.4.conv1.weight : False\n",
            "layer3.4.bn1.weight : False\n",
            "layer3.4.bn1.bias : False\n",
            "layer3.4.conv2.weight : False\n",
            "layer3.4.bn2.weight : False\n",
            "layer3.4.bn2.bias : False\n",
            "layer3.4.conv3.weight : False\n",
            "layer3.4.bn3.weight : False\n",
            "layer3.4.bn3.bias : False\n",
            "layer3.5.conv1.weight : False\n",
            "layer3.5.bn1.weight : False\n",
            "layer3.5.bn1.bias : False\n",
            "layer3.5.conv2.weight : False\n",
            "layer3.5.bn2.weight : False\n",
            "layer3.5.bn2.bias : False\n",
            "layer3.5.conv3.weight : False\n",
            "layer3.5.bn3.weight : False\n",
            "layer3.5.bn3.bias : False\n",
            "layer4.0.conv1.weight : True\n",
            "layer4.0.bn1.weight : True\n",
            "layer4.0.bn1.bias : True\n",
            "layer4.0.conv2.weight : True\n",
            "layer4.0.bn2.weight : True\n",
            "layer4.0.bn2.bias : True\n",
            "layer4.0.conv3.weight : True\n",
            "layer4.0.bn3.weight : True\n",
            "layer4.0.bn3.bias : True\n",
            "layer4.0.downsample.0.weight : True\n",
            "layer4.0.downsample.1.weight : True\n",
            "layer4.0.downsample.1.bias : True\n",
            "layer4.1.conv1.weight : True\n",
            "layer4.1.bn1.weight : True\n",
            "layer4.1.bn1.bias : True\n",
            "layer4.1.conv2.weight : True\n",
            "layer4.1.bn2.weight : True\n",
            "layer4.1.bn2.bias : True\n",
            "layer4.1.conv3.weight : True\n",
            "layer4.1.bn3.weight : True\n",
            "layer4.1.bn3.bias : True\n",
            "layer4.2.conv1.weight : True\n",
            "layer4.2.bn1.weight : True\n",
            "layer4.2.bn1.bias : True\n",
            "layer4.2.conv2.weight : True\n",
            "layer4.2.bn2.weight : True\n",
            "layer4.2.bn2.bias : True\n",
            "layer4.2.conv3.weight : True\n",
            "layer4.2.bn3.weight : True\n",
            "layer4.2.bn3.bias : True\n",
            "fc.weight : True\n",
            "fc.bias : True\n"
          ]
        }
      ],
      "source": [
        "for name, param in net4.named_parameters():\n",
        "       print(name, ':', param.requires_grad)"
      ]
    },
    {
      "cell_type": "markdown",
      "metadata": {
        "id": "XyR4vKxz-dbH"
      },
      "source": [
        "Train the model and save into `history4`."
      ]
    },
    {
      "cell_type": "code",
      "execution_count": 35,
      "metadata": {
        "id": "DGIpDEO6-dbI",
        "outputId": "2336a282-4017-4d06-808d-3095a6b2f318",
        "colab": {
          "base_uri": "https://localhost:8080/"
        }
      },
      "outputs": [
        {
          "output_type": "stream",
          "name": "stdout",
          "text": [
            "[Epoch  1/30 Iter    32/32]: train_loss = 1.9984\n",
            "[Epoch  2/30 Iter    32/32]: train_loss = 1.2703\n",
            "[Epoch  3/30 Iter    32/32]: train_loss = 0.9334\n",
            "[Epoch  4/30 Iter    32/32]: train_loss = 0.7327\n",
            "[Epoch  5/30 Iter    32/32]: train_loss = 0.6493\n",
            "[Epoch  6/30 Iter    32/32]: train_loss = 0.5215\n",
            "[Epoch  7/30 Iter    32/32]: train_loss = 0.4646\n",
            "[Epoch  8/30 Iter    32/32]: train_loss = 0.3755\n",
            "[Epoch  9/30 Iter    32/32]: train_loss = 0.3027\n",
            "[Epoch 10/30 Iter    32/32]: train_loss = 0.2641\n",
            "[Epoch 11/30 Iter    32/32]: train_loss = 0.2150\n",
            "[Epoch 12/30 Iter    32/32]: train_loss = 0.1874\n",
            "[Epoch 13/30 Iter    32/32]: train_loss = 0.1496\n",
            "[Epoch 14/30 Iter    32/32]: train_loss = 0.1750\n",
            "[Epoch 15/30 Iter    32/32]: train_loss = 0.1755\n",
            "[Epoch 16/30 Iter    32/32]: train_loss = 0.1309\n",
            "[Epoch 17/30 Iter    32/32]: train_loss = 0.1187\n",
            "[Epoch 18/30 Iter    32/32]: train_loss = 0.0920\n",
            "[Epoch 19/30 Iter    32/32]: train_loss = 0.0836\n",
            "[Epoch 20/30 Iter    32/32]: train_loss = 0.0660\n",
            "[Epoch 21/30 Iter    32/32]: train_loss = 0.0807\n",
            "[Epoch 22/30 Iter    32/32]: train_loss = 0.0765\n",
            "[Epoch 23/30 Iter    32/32]: train_loss = 0.0673\n",
            "[Epoch 24/30 Iter    32/32]: train_loss = 0.0713\n",
            "[Epoch 25/30 Iter    32/32]: train_loss = 0.0590\n",
            "[Epoch 26/30 Iter    32/32]: train_loss = 0.0502\n",
            "[Epoch 27/30 Iter    32/32]: train_loss = 0.0862\n",
            "[Epoch 28/30 Iter    32/32]: train_loss = 0.0516\n",
            "[Epoch 29/30 Iter    32/32]: train_loss = 0.0469\n",
            "[Epoch 30/30 Iter    32/32]: train_loss = 0.0932\n"
          ]
        }
      ],
      "source": [
        "history4 = train(net4, num_epochs=30, lr=0.01, momentum=0.8)"
      ]
    },
    {
      "cell_type": "markdown",
      "metadata": {
        "id": "428Jjhmi-dbM"
      },
      "source": [
        "Evaluate the model"
      ]
    },
    {
      "cell_type": "code",
      "execution_count": 36,
      "metadata": {
        "id": "JdLliUfd-dbO",
        "outputId": "219b5ad3-d7a0-422b-c2e2-d63a30ba69cf",
        "colab": {
          "base_uri": "https://localhost:8080/"
        }
      },
      "outputs": [
        {
          "output_type": "stream",
          "name": "stdout",
          "text": [
            "Accuracy = 78.00%\n"
          ]
        }
      ],
      "source": [
        "evaluate(net4)"
      ]
    },
    {
      "cell_type": "markdown",
      "metadata": {
        "id": "FlIhET9P-dbR"
      },
      "source": [
        "## 3 Compare the Training Loss\n",
        "\n",
        "Lastly, let's plot the training loss history for each of the training schemes for simple comparison:"
      ]
    },
    {
      "cell_type": "code",
      "execution_count": 37,
      "metadata": {
        "id": "l0Nq76zy-dbR",
        "outputId": "4a027f1a-8183-4c7a-cece-2571ff4d7702",
        "colab": {
          "base_uri": "https://localhost:8080/",
          "height": 430
        }
      },
      "outputs": [
        {
          "output_type": "display_data",
          "data": {
            "text/plain": [
              "<Figure size 640x480 with 1 Axes>"
            ],
            "image/png": "[encoded data removed]"
          },
          "metadata": {}
        }
      ],
      "source": [
        "import matplotlib.pyplot as plt\n",
        "\n",
        "plt.plot(history1, label='From scratch')\n",
        "plt.plot(history2, label='Finetuning the pretrained model')\n",
        "plt.plot(history3, label='Finetuning the fc layer')\n",
        "plt.plot(history4, label='Finetuning the top few layers')\n",
        "plt.legend()\n",
        "plt.show()"
      ]
    },
    {
      "cell_type": "markdown",
      "metadata": {
        "id": "zZIKznqu-dbU"
      },
      "source": [
        "---\n",
        "#<center>- End of P07 -\n",
        "---"
      ]
    }
  ],
  "metadata": {
    "accelerator": "GPU",
    "colab": {
      "provenance": []
    },
    "kernelspec": {
      "display_name": "Python 3 (ipykernel)",
      "language": "python",
      "name": "python3"
    },
    "language_info": {
      "codemirror_mode": {
        "name": "ipython",
        "version": 3
      },
      "file_extension": ".py",
      "mimetype": "text/x-python",
      "name": "python",
      "nbconvert_exporter": "python",
      "pygments_lexer": "ipython3",
      "version": "3.9.12"
    }
  },
  "nbformat": 4,
  "nbformat_minor": 0
}